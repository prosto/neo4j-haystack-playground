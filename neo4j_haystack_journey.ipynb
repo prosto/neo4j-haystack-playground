{
  "cells": [
    {
      "cell_type": "markdown",
      "metadata": {
        "colab_type": "text",
        "id": "view-in-github"
      },
      "source": [
        "<a href=\"https://colab.research.google.com/github/prosto/neo4j-haystack-playground/blob/main/neo4j_haystack_journey.ipynb\" target=\"_parent\"><img src=\"https://colab.research.google.com/assets/colab-badge.svg\" alt=\"Open In Colab\"/></a>"
      ]
    },
    {
      "cell_type": "markdown",
      "metadata": {
        "id": "dNm-nX0d5yrP"
      },
      "source": [
        "![](https://raw.githubusercontent.com/prosto/neo4j-haystack-playground/54b1f372f6f44e6851a5fa8bc1a1f554aa1dd080/images/neo4-haystack-friendship.svg)\n",
        "\n"
      ]
    },
    {
      "cell_type": "markdown",
      "metadata": {
        "id": "GJBs_flRovLc"
      },
      "source": [
        "# Agenda\n",
        "\n",
        "*   **Introduction** 👋🏼\n",
        "*   **Meet Neo4j** 🕸\n",
        "*   **Meet Haystack 2.0** 🧩\n",
        "*   **Neo4j Document Store** 🏗️\n",
        "*   **Explore RAG Pipelines** 🔍\n",
        "*   **Q/A** ❓"
      ]
    },
    {
      "cell_type": "markdown",
      "metadata": {},
      "source": [
        "## Prerequisites"
      ]
    },
    {
      "cell_type": "markdown",
      "metadata": {},
      "source": [
        "Most of the examples provided in this notebook require a connection to a Neo4j DB instance. If you plan to run the notebook not on your local (e.g. in Google Colab) the easiest option is to spin up a Neo4j DB would be a free [Neo4j AuraDB](https://neo4j.com/cloud/platform/aura-graph-database/) instance. You should be able to obtain credentials and URI to connect to a database. When running locally (e.g. in vscode) both [Neo4j Desktop](https://neo4j.com/docs/desktop-manual/current/) and [Docker](https://neo4j.com/docs/operations-manual/current/docker/introduction/) are at your disposal.\n",
        "\n",
        "The data used in this notebook can be found in [data folder](https://github.com/prosto/neo4j-haystack-playground/tree/main/data) of the [github repo](https://github.com/prosto/neo4j-haystack-playground/tree/main) which hosts the notebook.\n",
        "\n",
        "In this notebook you will need the following information when connecting to Neo4j:\n",
        "\n",
        "- `GRAPH_DB_URI` - URI of the database\n",
        "- `GRAPH_DB_NAME` - the name of the DB instance\n",
        "- `GRAPH_DB_SECRET` - password credential\n",
        "\n",
        "> **Note** In Colab you can use \"Secrets\" feature to store/update your credentials, e.g.\n",
        "> ```python\n",
        "> from google.colab import userdata\n",
        "> GRAPH_DB_URI = userdata.get(\"GRAPH_DB_URI\")\n",
        "> ```\n",
        "\n",
        "Also, some examples would require using LLM models and depending on your choice make sure to provide [OpenAI API Key](https://platform.openai.com/account/api-keys) or [HuggingFace Access Token](https://huggingface.co/settings/tokens). By default examples use HuggingFace TGI Endpoints and thus providing a token is needed (e.g. create a secret in Colab with name `HF_TOKEN`)."
      ]
    },
    {
      "cell_type": "markdown",
      "metadata": {
        "id": "qkBOHgLe9iSO"
      },
      "source": [
        "## Introduction"
      ]
    },
    {
      "cell_type": "markdown",
      "metadata": {
        "id": "UdRyKR44dcNI"
      },
      "source": [
        "\n",
        "### First steps towards Graph + RAG + Haystack\n",
        "\n",
        "Idea to build Neo4j + Haystack integration came after investigation about representing legislation using Graphs with complex relationships between legal **documents**. In the context of semantic search of legal docs Graphs seemed like a natural choice as a way to effectively ground LLMs in RAG pipelines. At the time there were news about Neo4j introducing support for vector indexes. Haystack with its component based NLP framework appeared well structured and documented. I liked the idea of pipelines with components having well defined interfaces (e.g. input/output slots, document stores). I decided to build the integration and learn both technologies.\n"
      ]
    },
    {
      "cell_type": "markdown",
      "metadata": {
        "id": "HAoOYkD39r4W"
      },
      "source": [
        "### Thinking Graphs\n",
        "\n",
        "Modeling legislation, for example, is a complex task and simple chunking strategies which existed at the time did not seem to fulfill requirements. One needs to effectively decompose legislation into meaningful pieces which are inter-connected, easily queryable as \"traceable data sources\". Having both Graph nodes and vector indexes in the same database helps to reduce amount of queries and simplify RAG solutions.\n",
        "\n",
        "Below are some examples of Graphs related to legislation to give you an idea of how to structure such content:\n",
        "\n",
        "<table width=\"100%\">\n",
        "<tr><th>Legislators (Congress)</th><th>Clauses</th></tr>\n",
        "<tr>\n",
        "<td bgcolor=\"5b6663\">\n",
        "  <img src=\"https://raw.githubusercontent.com/prosto/neo4j-haystack-playground/54b1f372f6f44e6851a5fa8bc1a1f554aa1dd080/images/legis-graph.svg\"/></td>\n",
        "<td bgcolor=\"5b6663\">\n",
        "  <img src=\"https://raw.githubusercontent.com/prosto/neo4j-haystack-playground/54b1f372f6f44e6851a5fa8bc1a1f554aa1dd080/images/legis-clauses.svg\"/>\n",
        "</td>\n",
        "</tr>\n",
        "<tr>\n",
        "<td>Source: <a href=\"https://github.com/jbarrasa/goingmeta/tree/main/session23\">Going Meta</a>\n",
        "</td>\n",
        "</tr>\n",
        "</table>\n",
        "\n",
        "Apart from retrieving context for LLM prompts using semantic search your RAG pipeline could additionally perform more complex queries to tune the information being retrieved. E.g. only search for documents issued by a particular body (Committee) for a given law domain.\n",
        "\n",
        "Neo4j gives many benefits if we compare it to \"single-purpose\" vector databases:\n",
        "\n",
        "- Role-based security\n",
        "- Advanced queries using [Cypher](https://neo4j.com/docs/cypher-manual/current/introduction/cypher_overview/)\n",
        "- Both Full-Text and Semantic search indexes\n",
        "- [Schema Constraints](https://neo4j.com/docs/cypher-manual/current/constraints/)\n",
        "- ACID transactions, cluster support, runtime failover"
      ]
    },
    {
      "cell_type": "markdown",
      "metadata": {
        "id": "a8-S2C4499fa"
      },
      "source": [
        "### Haystack Pipelines are also Graphs 🧐\n",
        "\n",
        "> To build modern search pipelines with LLMs, you need two things: powerful components and an easy way to put them together. The Haystack pipeline is built for this purpose and enables you to design and scale your interactions with LLMs.\n",
        "\n",
        "> The pipelines in Haystack 2.0 are directed **multigraphs** of different Haystack components and integrations. They give you the freedom to connect these components in various ways. This means that the pipeline doesn't need to be a continuous stream of information. With the flexibility of Haystack Pipelines, you can have simultaneous flows, standalone components, loops, and other types of connections.\n",
        "\n",
        "Learn more from the [Pipelines](https://docs.haystack.deepset.ai/docs/pipelines) documentatiion.\n",
        "\n",
        "<table width=\"100%\">\n",
        "<tr><th>Sample Pipeline</th></tr>\n",
        "<tr>\n",
        "<td align=\"center\" bgcolor=\"202424\">\n",
        "  <img src=\"https://github.com/prosto/neo4j-haystack-playground/blob/main/images/generic-pipeline-sample.png?raw=true\"/>\n",
        "</td>\n",
        "</tr>\n",
        "</table>\n"
      ]
    },
    {
      "cell_type": "markdown",
      "metadata": {
        "id": "1QF_e2pp9aXp"
      },
      "source": [
        "## Meet Neo4j\n",
        "\n",
        "> Neo4j uses a property graph database model. A graph data structure consists of nodes (discrete objects) that can be connected by relationships. Below is the image of a graph with three nodes (the circles) and three relationships (the arrows).\n",
        "\n",
        "> Neo4j is a native graph database, which means that it implements a true graph model all the way down to the storage level. The data is stored as you whiteboard it, instead of as a \"graph abstraction\" on top of another technology."
      ]
    },
    {
      "cell_type": "markdown",
      "metadata": {
        "id": "Yb5r1XREO7Z_"
      },
      "source": [
        "### The property graph model\n",
        "\n",
        "Below is another example of a Movies Graph:\n",
        "\n",
        "<table width=\"100%\">\n",
        "<tr>\n",
        "<td align=\"center\" bgcolor=\"202424\">\n",
        "  <img src=\"https://github.com/prosto/neo4j-haystack-playground/blob/main/images/property-graph-model.png?raw=true\" />\n",
        "</td>\n",
        "</tr>\n",
        "<table>\n",
        "\n",
        "Nodes are the entities in the graph.\n",
        "\n",
        "1. Nodes can be tagged with labels, representing their different roles in your domain (for example, Person).\n",
        "2. Nodes can hold any number of key-value pairs, or properties (for example, name).\n",
        "3. Node labels may also attach metadata (such as index or constraint information) to certain nodes.\n",
        "\n",
        "Relationships provide directed, named connections between two node entities (for example, Person `ACTED_IN` Movie).\n",
        "\n",
        "1. Relationships always have a direction, a type, a start node, and an end node, and they can have properties, just like nodes.\n",
        "2. Nodes can have any number or type of relationships without sacrificing performance.\n",
        "3. Although relationships are always directed, they can be navigated efficiently in any direction.\n"
      ]
    },
    {
      "cell_type": "markdown",
      "metadata": {
        "id": "YXL7ATNqYRW4"
      },
      "source": [
        "### Installation Options\n",
        "\n",
        "1. [Neo4j AuraDB](https://neo4j.com/cloud/platform/aura-graph-database/) is a fully managed cloud service and a good place to start for anyone interested in graph technologies. Besides the free option, you can select the subscription plan that suits you best.\n",
        "2. [Neo4j Database](https://neo4j.com/deployment-center/) can be installed on-premises and deployed in various systems\n",
        "3. The Neo4j Docker image provides a standard package of Neo4j Community Edition and Enterprise Edition for a variety of versions.\n",
        "4. [Neo4j Desktop](https://neo4j.com/docs/desktop-manual/current/) is one of the ways to set up an environment for developing an application with Neo4j and Cypher®. Download Neo4j Desktop from https://neo4j.com/download/ and follow the installation instructions for your operating system. Neo4j Desktop comes with a variety of tools that can be installed as plugins.\n",
        "5. [Neo4j Sandbox](https://neo4j.com/sandbox/) provides a number of example datasets that can help you to learn more about Neo4j graph database and Cypher queries applied to a specific use case.\n",
        "\n",
        "The simplest way to start database locally would be with Docker container:\n",
        "\n",
        "```bash\n",
        "docker run \\\n",
        "    --restart always \\\n",
        "    --publish=7474:7474 --publish=7687:7687 \\\n",
        "    --env NEO4J_AUTH=neo4j/passw0rd \\\n",
        "    neo4j:5.15.0\n",
        "```\n",
        "\n",
        "> **Note** Assuming you have a docker container running navigate to http://localhost:7474 to open [Neo4j Browser](https://neo4j.com/docs/browser-manual/current/) to explore graph data and run Cypher queries."
      ]
    },
    {
      "cell_type": "markdown",
      "metadata": {
        "id": "80e-xRhbfBX2"
      },
      "source": [
        "### Cypher with Movies\n",
        "\n",
        "Lets prepare a Movies Graph database according to the property graph model example given above. We will use it to explore Vector Index setup.\n",
        "\n",
        "If working in Google Colab easiest option is to quickly start a free cloud instance in [AuraDB](https://neo4j.com/cloud/platform/aura-graph-database/). Once the instance is up and running and assuming you have stored the credentials you could navigate to the [Neo4j Broswer App](https://browser.neo4j.io/) and connect to the instance.\n",
        "\n",
        "Run the following query `:play movie-graph` and you should be able to see the \"Movie Graph Guide\" running as a result. As part of that guide there will be a \"single Cypher query statement composed of multiple `CREATE` clauses. This will create the movie graph..\". The guide should also help you to learn basic Cypher query syntax.\n",
        "\n",
        "Below is an example `CREATE` clause to add a Movie and Actors with `:ACTED_IN` relationships:\n",
        "\n",
        "```cypher\n",
        "CREATE (TheMatrix:Movie {title:'The Matrix', released:1999, tagline:'Welcome to the Real World'})\n",
        "\n",
        "CREATE (Keanu:Person:Actor {name:'Keanu Reeves', born:1964})\n",
        "CREATE (Laurence:Person:Actor {name:'Laurence Fishburne', born:1961})\n",
        "\n",
        "CREATE\n",
        "  (Keanu)-[:ACTED_IN {roles:['Neo']}]->(TheMatrix),\n",
        "  (Laurence)-[:ACTED_IN {roles:['Morpheus']}]->(TheMatrix)\n",
        "```"
      ]
    },
    {
      "cell_type": "markdown",
      "metadata": {
        "id": "ojowpnVoi1oi"
      },
      "source": [
        "#### Run queries with Neo4j Python Driver"
      ]
    },
    {
      "cell_type": "markdown",
      "metadata": {
        "id": "o-iy0siAm_cv"
      },
      "source": [
        "\n",
        "[The Official Neo4j Driver for Python](https://neo4j.com/docs/api/python-driver/current/api.html) can be installed as follows:"
      ]
    },
    {
      "cell_type": "code",
      "execution_count": null,
      "metadata": {
        "id": "xFU5zJZyivsz"
      },
      "outputs": [],
      "source": [
        "!pip install neo4j"
      ]
    },
    {
      "cell_type": "markdown",
      "metadata": {
        "id": "cZpMxv5Tm-HJ"
      },
      "source": [
        "Create helper function to query Neo4j using Cypher:\n",
        "<a name=\"cell_cypher_read_query\"/>"
      ]
    },
    {
      "cell_type": "code",
      "execution_count": null,
      "metadata": {
        "id": "psNsyMAKjdut"
      },
      "outputs": [],
      "source": [
        "from neo4j import GraphDatabase, RoutingControl\n",
        "from google.colab import userdata\n",
        "\n",
        "GRAPH_DB_URI = userdata.get(\"GRAPH_DB_URI\")\n",
        "GRAPH_DB_NAME = userdata.get(\"GRAPH_DB_NAME\")\n",
        "GRAPH_DB_AUTH = (\"neo4j\", userdata.get(\"GRAPH_DB_SECRET\"))\n",
        "\n",
        "\n",
        "def cypher_read_query(query, **parameters):\n",
        "    with GraphDatabase.driver(GRAPH_DB_URI, auth=GRAPH_DB_AUTH) as driver:\n",
        "        records, _, _ = driver.execute_query(\n",
        "            query,\n",
        "            parameters_=parameters,\n",
        "            database_=GRAPH_DB_NAME,\n",
        "            routing_=RoutingControl.READ,\n",
        "        )\n",
        "        return records\n",
        "\n",
        "\n",
        "def cypher_write_query(query, **parameters):\n",
        "    with GraphDatabase.driver(GRAPH_DB_URI, auth=GRAPH_DB_AUTH) as driver:\n",
        "        result = driver.execute_query(\n",
        "            query,\n",
        "            parameters_=parameters,\n",
        "            database_=GRAPH_DB_NAME,\n",
        "            routing_=RoutingControl.WRITE,\n",
        "        )\n",
        "        return result"
      ]
    },
    {
      "cell_type": "markdown",
      "metadata": {
        "id": "LNmCp5lOn00q"
      },
      "source": [
        "Example (1): Find the actor named \"Tom Hanks\""
      ]
    },
    {
      "cell_type": "code",
      "execution_count": null,
      "metadata": {
        "id": "bR0hYTtjn6JY"
      },
      "outputs": [],
      "source": [
        "records = cypher_read_query(\"MATCH (tom {name: $name}) RETURN tom\", name=\"Tom Hanks\")\n",
        "[record.data().get(\"tom\") for record in records]"
      ]
    },
    {
      "cell_type": "markdown",
      "metadata": {
        "id": "1db-0DVvpKR4"
      },
      "source": [
        "Example (2): Find movies released in the 1990s"
      ]
    },
    {
      "cell_type": "code",
      "execution_count": null,
      "metadata": {
        "id": "SrHki_wKpPTT"
      },
      "outputs": [],
      "source": [
        "records = cypher_read_query(\n",
        "    \"MATCH (nineties:Movie) WHERE nineties.released >= 1990 AND nineties.released < 2000 RETURN nineties.title\",\n",
        "    year_start=1990,\n",
        "    year_end=2000,\n",
        ")\n",
        "[record.data() for record in records]"
      ]
    },
    {
      "cell_type": "markdown",
      "metadata": {
        "id": "wMOXW9_Eqg5i"
      },
      "source": [
        "Example (3): List all Tom Hanks Movies"
      ]
    },
    {
      "cell_type": "code",
      "execution_count": null,
      "metadata": {
        "id": "TU22Qymeqv6a"
      },
      "outputs": [],
      "source": [
        "records = cypher_read_query(\n",
        "    \"MATCH (tom:Person {name: $name})-[:ACTED_IN]->(tomHanksMovies) RETURN tom,tomHanksMovies\",\n",
        "    name=\"Tom Hanks\",\n",
        ")\n",
        "[record.data().get(\"tomHanksMovies\") for record in records]"
      ]
    },
    {
      "cell_type": "markdown",
      "metadata": {
        "id": "NuhSZo31xkoX"
      },
      "source": [
        "### Vector search indexes\n",
        "\n",
        "Node vector [search indexes](https://neo4j.com/docs/cypher-manual/current/indexes/semantic-indexes/vector-indexes/) were released as a public beta in Neo4j 5.11 and general availability in Neo4j 5.13.\n",
        "\n",
        "<table>\n",
        "<tr><th>Vector Index and RAG</th></tr>\n",
        "<tr><td align=\"center\" bgcolor=\"202424\">\n",
        "    <img src=\"https://github.com/prosto/neo4j-haystack-playground/blob/main/images/vector-index-and-document-store.png?raw=true\"/>\n",
        "</td></tr>\n",
        "</table>\n",
        "<br/>\n",
        "<table>\n",
        "<tr><th>Supporting Cypher queries</th></tr>\n",
        "<tr><td align=\"center\" bgcolor=\"202424\">\n",
        "    <img src=\"https://github.com/prosto/neo4j-haystack-playground/blob/main/images/supporting-cypher-queries.png?raw=true\"/>\n",
        "</td></tr>\n",
        "</table>"
      ]
    },
    {
      "cell_type": "markdown",
      "metadata": {
        "id": "Evwgv9Ea8Ahb"
      },
      "source": [
        "#### Create and configure vector indexes\n",
        "\n",
        "You can create vector indexes using the `CREATE VECTOR INDEX` command. An index can be given a unique name when created (or get a generated one), which is used to reference the specific index when querying or dropping it."
      ]
    },
    {
      "cell_type": "code",
      "execution_count": null,
      "metadata": {
        "id": "KCvGkur48QJw"
      },
      "outputs": [],
      "source": [
        "create_index_query = \"\"\"\n",
        "  CREATE VECTOR INDEX `movie-embeddings` IF NOT EXISTS\n",
        "  FOR (n:Movie) ON (n.embedding)\n",
        "  OPTIONS {indexConfig: {\n",
        "  `vector.dimensions`: $dimensions,\n",
        "  `vector.similarity_function`: $similarity_function\n",
        "  }}\n",
        "\"\"\"\n",
        "\n",
        "cypher_write_query(create_index_query, dimensions=384, similarity_function=\"cosine\")"
      ]
    },
    {
      "cell_type": "markdown",
      "metadata": {
        "id": "CMdTTs79MhMt"
      },
      "source": [
        "Query index information:"
      ]
    },
    {
      "cell_type": "code",
      "execution_count": null,
      "metadata": {
        "id": "ZNMh-o3UMQg-"
      },
      "outputs": [],
      "source": [
        "cypher_read_query(\"SHOW VECTOR INDEXES YIELD name, type, entityType, labelsOrTypes, properties, options\")"
      ]
    },
    {
      "cell_type": "markdown",
      "metadata": {
        "id": "VFz7KPKd-30X"
      },
      "source": [
        "#### Create embeddings with sentence_transformers"
      ]
    },
    {
      "cell_type": "code",
      "execution_count": null,
      "metadata": {
        "id": "KyB223RH--7w"
      },
      "outputs": [],
      "source": [
        "!pip install -U sentence-transformers"
      ]
    },
    {
      "cell_type": "code",
      "execution_count": null,
      "metadata": {
        "colab": {
          "base_uri": "https://localhost:8080/"
        },
        "id": "8uxE8ZW7_pk6",
        "outputId": "f4607b80-b339-4e10-aa9a-1b3006f26c6a"
      },
      "outputs": [],
      "source": [
        "from sentence_transformers import SentenceTransformer\n",
        "\n",
        "model = SentenceTransformer(\"all-MiniLM-L6-v2\")\n",
        "\n",
        "movie_nodes = [\n",
        "    record.get(\"movie\")\n",
        "    for record in cypher_read_query(\"MATCH (movie:Movie) RETURN movie\")\n",
        "]\n",
        "\n",
        "tagline_embeddings = model.encode([node.get(\"tagline\") for node in movie_nodes])\n",
        "movie_embeddings = [\n",
        "    {\"id\": node.element_id, \"vector\": embedding}\n",
        "    for embedding, node in zip(tagline_embeddings, movie_nodes)\n",
        "]\n",
        "\n",
        "cypher_write_query(\"\"\"\n",
        "  WITH $movie_embeddings AS batch\n",
        "  UNWIND batch as movie_embedding\n",
        "  MATCH (n:Movie) WHERE elementId(n) = movie_embedding.id\n",
        "  CALL db.create.setNodeVectorProperty(n, 'embedding', movie_embedding.vector)\n",
        "  \"\"\", movie_embeddings=movie_embeddings,\n",
        ")"
      ]
    },
    {
      "cell_type": "code",
      "execution_count": null,
      "metadata": {
        "id": "hcBK7pRd9uWb"
      },
      "outputs": [],
      "source": [
        "cypher_read_query(\"SHOW VECTOR INDEXES YIELD name, type, entityType, labelsOrTypes, properties, options\")"
      ]
    },
    {
      "cell_type": "markdown",
      "metadata": {
        "id": "tYRM7HqT-Jmw"
      },
      "source": [
        "#### Query a vector index\n",
        "\n",
        "You can query a vector index using the `db.index.vector.queryNodes` procedure."
      ]
    },
    {
      "cell_type": "code",
      "execution_count": null,
      "metadata": {
        "id": "kEsYcPll-VJ-"
      },
      "outputs": [],
      "source": [
        "from sentence_transformers import SentenceTransformer\n",
        "\n",
        "text_query = \"crack the cypher\" # @param {type:\"string\"}\n",
        "query_embedding = SentenceTransformer(\"all-MiniLM-L6-v2\").encode(text_query)\n",
        "\n",
        "cypher_read_query(\"\"\"\n",
        "  CALL db.index.vector.queryNodes('movie-embeddings', $top_k, $embedding)\n",
        "  YIELD node AS similarMovie, score\n",
        "\n",
        "  MATCH (similarMovie) WHERE similarMovie.released > 2000\n",
        "  RETURN similarMovie.tagline AS tagline, score\n",
        "\"\"\", embedding=query_embedding, top_k=3)"
      ]
    },
    {
      "cell_type": "markdown",
      "metadata": {
        "id": "-BGY6JjdhOu7"
      },
      "source": [
        "## Meet Haystack 2.0\n",
        "\n"
      ]
    },
    {
      "cell_type": "markdown",
      "metadata": {
        "id": "uGY8zFtW_nkb"
      },
      "source": [
        "**Haystack is an open-source framework for building production-ready LLM applications, retrieval-augmented generative pipelines and state-of-the-art search systems that work intelligently over large document collections.**\n",
        "\n",
        "Please explore the [fabulous documentation](https://docs.haystack.deepset.ai/docs/intro) for more details.\n",
        "\n",
        "<table width=\"100%\">\n",
        "<tr><th>Haystack Ecosystem</th></tr>\n",
        "<tr>\n",
        "<td align=\"center\" bgcolor=\"202424\">\n",
        "  <img src=\"https://github.com/prosto/neo4j-haystack-playground/blob/main/images/haystack-universe.png?raw=true\"/>\n",
        "</td>\n",
        "</tr>\n",
        "</table>\n",
        "\n",
        "and more..."
      ]
    },
    {
      "cell_type": "markdown",
      "metadata": {
        "id": "XO_tn7oRJMKq"
      },
      "source": [
        "#### Components\n",
        "\n",
        "Components are the building blocks of a pipeline. They perform tasks such as preprocessing, retrieving, or summarizing text while routing queries through different branches of a pipeline.\n",
        "\n",
        "Below are some examples of components which we will be using in pipelines later in the notebook.\n",
        "\n",
        "<table width=\"100%\">\n",
        "<tr>\n",
        "  <td align=\"center\" bgcolor=\"202424\">\n",
        "    <img src=\"https://github.com/prosto/neo4j-haystack-playground/blob/main/images/retriever-class-diagram.png?raw=true\"/>\n",
        "  </td>\n",
        "</tr>\n",
        "</table>\n",
        "<br/>\n",
        "<table width=\"100%\">\n",
        "<tr>\n",
        "  <td bgcolor=\"202424\">\n",
        "    <img src=\"https://github.com/prosto/neo4j-haystack-playground/blob/main/images/generator-class-diagram.png?raw=true\"/>\n",
        "  </td>\n",
        "</tr>\n",
        "</table>\n",
        "\n",
        "Please notice the following:\n",
        "\n",
        "* Each Haystack component is usually created with a set of initialization parameters (e.g. see `model`, `url` in `HuggingFaceTGIGenerator` or `top_k` in `InMemoryEmbeddingRetriever`)\n",
        "* Component can be directly invoked in python code by calling its `run` method\n",
        "* The component usually expects inputs which you would provide to the `run` method\n",
        "* The result of component execution is a python dictionary and is outlined by `OutputType` note in the diagram.\n",
        "\n",
        "For better understanding of how components work please refer to the [documentation](https://docs.haystack.deepset.ai/docs/components)."
      ]
    },
    {
      "cell_type": "markdown",
      "metadata": {
        "id": "JvmcyvcJf3r0"
      },
      "source": [
        "#### Data Classes\n",
        "\n",
        "> In Haystack, there are a handful of core classes that are regularly used in many different places. These are classes that carry data through the system and you are likely to interact with these as either the input or output of your pipeline.\n",
        "\n",
        "> Haystack 2.0 uses data classes to help components communicate with each other in a simple and modular way. By doing this, data flows seamlessly through the Haystack Pipelines.\n",
        "\n",
        "Learn more about data classes in [Haystack docs](https://docs.haystack.deepset.ai/docs/data-classes).\n",
        "\n",
        "<table width=\"100%\">\n",
        "<tr>\n",
        "  <td bgcolor=\"202424\" align=\"center\">\n",
        "  <img src=\"https://github.com/prosto/neo4j-haystack-playground/blob/main/images/document-class-diagram.png?raw=true\"/>\n",
        "  </td>\n",
        "</tr>\n",
        "</table>\n",
        "\n",
        "> Document represents a central data abstraction in Haystack, capable of holding text, tables, and binary data.\n",
        "\n",
        "In our case we are interested in the `Document` a lot as it is going to be the main data structure which will be used to interact with Neo4j. The `Document` is going to be stored in Neo4j as a node, and both `meta` and `embedding` attributes will be used to represent additional data points if needed."
      ]
    },
    {
      "cell_type": "markdown",
      "metadata": {
        "id": "YeUlNt6TiCo9"
      },
      "source": [
        "#### Document Store\n",
        "\n",
        "> [Document Store](https://docs.haystack.deepset.ai/docs/document-store) is an object that stores your Documents. In Haystack, a Document Store is different from a component, as it doesn’t have the `run()` method. You can think of it as an interface to your database – you put the information there, or you can look through it. This means that a Document Store is not a piece of a Pipeline, but rather a tool that the components of a pipeline have access to and can interact with.\n",
        "\n",
        "> The most common way to use a Document Store in Haystack is to fetch documents using a Retriever. A Document Store will often have a corresponding Retriever to get the most out of specific technologies.\n",
        "\n",
        "Below you can see methods of the [DocumentStore Protocol](https://docs.haystack.deepset.ai/docs/document-store#documentstore-protocol):\n",
        "\n",
        "<table width=\"100%\">\n",
        "<tr>\n",
        "  <td bgcolor=\"202424\" align=\"center\">\n",
        "  <img src=\"https://github.com/prosto/neo4j-haystack-playground/blob/main/images/document-store-class-diagram.png?raw=true\"/>\n",
        "  </td>\n",
        "</tr>\n",
        "</table>\n",
        "\n",
        "DocumentStore Protocol has to be implemented if you are creating a [custom Document Store](https://docs.haystack.deepset.ai/docs/creating-custom-document-stores). The `neo4j-haystack` package implements all methods from the protocol in the [Neo4jDocumentStore](https://prosto.github.io/neo4j-haystack/reference/neo4j_store/) class."
      ]
    },
    {
      "cell_type": "markdown",
      "metadata": {
        "id": "TUYzpddLmf12"
      },
      "source": [
        "### Building Pipelines with InMemoryDocumentStore"
      ]
    },
    {
      "cell_type": "markdown",
      "metadata": {
        "id": "P0JImWMP9TxZ"
      },
      "source": [
        "Our goal here is to quickly demonstrate how pipelines work and see how Document Stores are being used in particular. Later we will replace `InMemoryDocumentStore` with `Neo4jDocumentStore` and pipelines will practically remain same."
      ]
    },
    {
      "cell_type": "markdown",
      "metadata": {
        "id": "KKxzqQ6bmvRL"
      },
      "source": [
        "#### Prepare Game Of Thrones (Data)"
      ]
    },
    {
      "cell_type": "code",
      "execution_count": null,
      "metadata": {
        "id": "uxICr2pH8k8W"
      },
      "outputs": [],
      "source": [
        "GOT_DOCS_DIR=\"data/got\"\n",
        "GOT_ZIP_URL=\"https://s3.eu-central-1.amazonaws.com/deepset.ai-farm-qa/datasets/documents/wiki_gameofthrones_txt6.zip\""
      ]
    },
    {
      "cell_type": "code",
      "execution_count": null,
      "metadata": {
        "id": "2HSMdUvlnktL"
      },
      "outputs": [],
      "source": [
        "# download Game of Thrones (GOT) wiki\n",
        "!mkdir -p $GOT_DOCS_DIR\n",
        "!wget $GOT_ZIP_URL -O wiki_gameofthrones_txt6.zip\n",
        "!unzip -o wiki_gameofthrones_txt6.zip -d $GOT_DOCS_DIR"
      ]
    },
    {
      "cell_type": "markdown",
      "metadata": {
        "id": "qdZjQ0HhuHpo"
      },
      "source": [
        "#### Install Haystack"
      ]
    },
    {
      "cell_type": "code",
      "execution_count": null,
      "metadata": {
        "id": "N1H7r_ihuMql"
      },
      "outputs": [],
      "source": [
        "!pip install haystack-ai"
      ]
    },
    {
      "cell_type": "markdown",
      "metadata": {
        "id": "YMhHvHhL99YX"
      },
      "source": [
        "> The [InMemoryDocumentStore](https://docs.haystack.deepset.ai/docs/inmemorydocumentstore) is a very simple document store with no extra services or dependencies.\n",
        "\n",
        "> It is great for experimenting with Haystack, however we do not recommend using it for production."
      ]
    },
    {
      "cell_type": "code",
      "execution_count": null,
      "metadata": {
        "id": "9Ho9fwHXxxFP"
      },
      "outputs": [],
      "source": [
        "from haystack.document_stores.in_memory import InMemoryDocumentStore\n",
        "\n",
        "document_store = InMemoryDocumentStore()"
      ]
    },
    {
      "cell_type": "markdown",
      "metadata": {
        "id": "06n7KlcZmsqe"
      },
      "source": [
        "#### Indexing Pipeline with InMemoryDocumentStore"
      ]
    },
    {
      "cell_type": "code",
      "execution_count": null,
      "metadata": {
        "id": "ZzJXqNyKmq5s"
      },
      "outputs": [],
      "source": [
        "import os\n",
        "from pathlib import Path\n",
        "\n",
        "from haystack import Pipeline\n",
        "from haystack.components.converters import TextFileToDocument\n",
        "from haystack.components.embedders import SentenceTransformersDocumentEmbedder\n",
        "from haystack.components.preprocessors import DocumentCleaner, DocumentSplitter\n",
        "from haystack.components.writers import DocumentWriter\n",
        "\n",
        "pipe = Pipeline()\n",
        "pipe.add_component(\"text_file_converter\", TextFileToDocument())\n",
        "pipe.add_component(\"cleaner\", DocumentCleaner())\n",
        "pipe.add_component(\n",
        "    \"splitter\",\n",
        "    DocumentSplitter(split_by=\"sentence\", split_length=250, split_overlap=30),\n",
        ")\n",
        "pipe.add_component(\n",
        "    \"embedder\",\n",
        "    SentenceTransformersDocumentEmbedder(\n",
        "        model=\"sentence-transformers/all-MiniLM-L6-v2\"\n",
        "    ),\n",
        ")\n",
        "pipe.add_component(\"writer\", DocumentWriter(document_store=document_store))\n",
        "\n",
        "pipe.connect(\"text_file_converter.documents\", \"cleaner.documents\")\n",
        "pipe.connect(\"cleaner.documents\", \"splitter.documents\")\n",
        "pipe.connect(\"splitter.documents\", \"embedder.documents\")\n",
        "pipe.connect(\"embedder.documents\", \"writer.documents\")\n",
        "\n",
        "# Take the docs data directory as input and run the pipeline\n",
        "file_paths = [GOT_DOCS_DIR / Path(name) for name in os.listdir(GOT_DOCS_DIR)]\n",
        "result = pipe.run({\"text_file_converter\": {\"sources\": file_paths}})"
      ]
    },
    {
      "cell_type": "markdown",
      "metadata": {
        "id": "u5OyW5U_wOpm"
      },
      "source": [
        "#### RAG Pipeline with InMemoryDocumentStore"
      ]
    },
    {
      "cell_type": "code",
      "execution_count": null,
      "metadata": {
        "id": "LEgIzWv5wclV"
      },
      "outputs": [],
      "source": [
        "from google.colab import userdata\n",
        "\n",
        "from haystack import GeneratedAnswer, Pipeline\n",
        "from haystack.components.builders.answer_builder import AnswerBuilder\n",
        "from haystack.components.builders.prompt_builder import PromptBuilder\n",
        "from haystack.components.embedders import SentenceTransformersTextEmbedder\n",
        "from haystack.components.generators import HuggingFaceTGIGenerator\n",
        "from haystack.components.retrievers.in_memory import InMemoryEmbeddingRetriever\n",
        "from haystack.utils import Secret\n",
        "\n",
        "HF_TOKEN = Secret.from_token(userdata.get(\"HF_TOKEN\"))\n",
        "\n",
        "prompt_template = \"\"\"\n",
        "Given these documents, answer the question.\\nDocuments:\n",
        "{% for doc in documents %}\n",
        "    {{ doc.content }}\n",
        "{% endfor %}\n",
        "\n",
        "\\nQuestion: {{question}}\n",
        "\\nAnswer:\n",
        "\"\"\"\n",
        "rag_pipeline = Pipeline()\n",
        "rag_pipeline.add_component(\n",
        "    \"query_embedder\",\n",
        "    SentenceTransformersTextEmbedder(\n",
        "        model=\"sentence-transformers/all-MiniLM-L6-v2\", progress_bar=False\n",
        "    ),\n",
        ")\n",
        "rag_pipeline.add_component(\n",
        "    \"retriever\", InMemoryEmbeddingRetriever(document_store=document_store, top_k=5)\n",
        ")\n",
        "rag_pipeline.add_component(\"prompt_builder\", PromptBuilder(template=prompt_template))\n",
        "rag_pipeline.add_component(\n",
        "    \"llm\",\n",
        "    HuggingFaceTGIGenerator(model=\"mistralai/Mistral-7B-v0.1\", token=HF_TOKEN),\n",
        ")\n",
        "rag_pipeline.add_component(\"answer_builder\", AnswerBuilder())\n",
        "\n",
        "rag_pipeline.connect(\"query_embedder\", \"retriever.query_embedding\")\n",
        "rag_pipeline.connect(\"retriever.documents\", \"prompt_builder.documents\")\n",
        "rag_pipeline.connect(\"prompt_builder.prompt\", \"llm.prompt\")\n",
        "rag_pipeline.connect(\"llm.replies\", \"answer_builder.replies\")\n",
        "rag_pipeline.connect(\"llm.meta\", \"answer_builder.meta\")\n",
        "rag_pipeline.connect(\"retriever\", \"answer_builder.documents\")\n",
        "\n",
        "# Ask a question on the data you just added.\n",
        "question = \"Who created the Dothraki vocabulary?\"\n",
        "result = rag_pipeline.run(\n",
        "    {\n",
        "        \"query_embedder\": {\"text\": question},\n",
        "        \"retriever\": {\"top_k\": 3},\n",
        "        \"prompt_builder\": {\"question\": question},\n",
        "        \"answer_builder\": {\"query\": question},\n",
        "    }\n",
        ")\n",
        "\n",
        "answer: GeneratedAnswer = result[\"answer_builder\"][\"answers\"][0]"
      ]
    },
    {
      "cell_type": "code",
      "execution_count": null,
      "metadata": {
        "id": "mOxHuqQBzemW"
      },
      "outputs": [],
      "source": [
        "display(answer)"
      ]
    },
    {
      "cell_type": "markdown",
      "metadata": {
        "id": "xreIeqwm8cGD"
      },
      "source": [
        "## Neo4j Document Store"
      ]
    },
    {
      "cell_type": "markdown",
      "metadata": {
        "id": "EZ1_tuvGx9U1"
      },
      "source": [
        "As we already covered main components and concepts of both Neo4j and Haystack we should be ready to discuss the `neo4j-haystack` package and what it offers. In particular we will start with some implementation details and show how `Neo4jDocumentStore` can be used to both create and query documents in Neo4j."
      ]
    },
    {
      "cell_type": "markdown",
      "metadata": {
        "id": "hZ12G7k-yWu7"
      },
      "source": [
        "### Big Picture"
      ]
    },
    {
      "cell_type": "markdown",
      "metadata": {
        "id": "AQpeZYholVZz"
      },
      "source": [
        "<table width=\"100%\">\n",
        "<tr>\n",
        "  <td bgcolor=\"202424\" align=\"center\">\n",
        "  <img src=\"https://github.com/prosto/neo4j-haystack-playground/blob/main/images/big-picture.png?raw=true\"/>\n",
        "  </td>\n",
        "</tr>\n",
        "</table>\n",
        "\n",
        "The conceptual diagram above demonstrates keys areas involved in using `neo4j-haystack` library and its components:\n",
        "\n",
        "1. You would usually be building Haystack pipelines with Neo4j related components in it. Please notice the `retriever` component in the pipeline which ships with the package\n",
        "2. `neo4j-haystack` library comes with a number of components:\n",
        "\n",
        "  - [Neo4jDocumentStore](https://prosto.github.io/neo4j-haystack/reference/neo4j_store/) -  Document store for Neo4j Database with support for dense retrievals using Vector Search Index, implements the required [Protocol](https://docs.haystack.deepset.ai/v2.0/docs/document-store#documentstore-protocol). Document properties are stored as graph nodes. Embeddings are stored as part of node properties along with the rest of attributes (including meta). `Neo4jDocumentStore` also provides additional methods to query embeddings and manage VectorIndex.\n",
        "  - [Neo4jEmbeddingRetriever](https://prosto.github.io/neo4j-haystack/reference/neo4j_retriever/#neo4j_haystack.components.neo4j_retriever.Neo4jEmbeddingRetriever) - is a typical [retriever component](https://docs.haystack.deepset.ai/v2.0/docs/retrievers) which can be used to query vector store index and find related Documents. The component uses `Neo4jDocumentStore` to query embeddings.\n",
        "  - [Neo4jDynamicDocumentRetriever](https://prosto.github.io/neo4j-haystack/reference/neo4j_retriever/#neo4j_haystack.components.neo4j_retriever.Neo4jDynamicDocumentRetriever) is also a retriever component in a sense that it can be used to query Documents in Neo4j. However it is decoupled from `Neo4jDocumentStore` and allows to run arbitrary [Cypher query](https://neo4j.com/docs/cypher-manual/current/queries/) to extract documents. Practically it is possible to query Neo4j same way `Neo4jDocumentStore` does, including vector search.\n",
        "\n",
        "3. The `neo4j-haystack` library uses [Python Driver](https://neo4j.com/docs/api/python-driver/current/api.html#api-documentation) and\n",
        "[Cypher Queries](https://neo4j.com/docs/cypher-manual/current/introduction/) to interact with Neo4j database and hide all complexities under the hood. In particular [Neo4jClient](https://prosto.github.io/neo4j-haystack/reference/neo4j_client/) ia acting as a data access layer and is handling all interactions with database by invoking Cypher queries.\n",
        "4. In Neo4j [Vector search index](https://neo4j.com/docs/cypher-manual/current/indexes-for-vector-search/) is being used for storing document embeddings and dense retrievals.\n",
        "\n",
        "> As of Neo4j 5.13, the vector search index is no longer a beta feature, consider using a version of the database \">= 5.13\". You could explore Known issues and Limitations in the [documentation](https://neo4j.com/docs/cypher-manual/current/indexes/semantic-indexes/vector-indexes/).\n",
        "\n"
      ]
    },
    {
      "cell_type": "markdown",
      "metadata": {
        "id": "V5Pj11nP5FHS"
      },
      "source": [
        "### Package Structure\n",
        "\n",
        "The source code of the package is available at https://github.com/prosto/neo4j-haystack. See below the overall structure with main parts highlighted with comments"
      ]
    },
    {
      "cell_type": "markdown",
      "metadata": {
        "id": "gO88xEea7leM"
      },
      "source": [
        "```\n",
        ".\n",
        "├── CHANGELOG.md\n",
        "├── CONTRIBUTING.md # How to install the project locally and contribute\n",
        "├── LICENSE.txt\n",
        "├── README.md\n",
        "├── mkdocs.yml\n",
        "├── pyproject.toml\n",
        "├── data\n",
        "├── docs # mkdocs pages for the API documentation web site\n",
        "├── examples\n",
        "├── scripts # Helper scripts, e.g. load sample data from hf datasets\n",
        "├── site\n",
        "├── src\n",
        "│   └── neo4j_haystack\n",
        "│       ├── __about__.py\n",
        "│       ├── client\n",
        "│       │   └── neo4j_client.py # Neo4j data access with Neo4jClient, Cypher queries are not exposed to the Neo4jDocumentStore\n",
        "│       ├── components\n",
        "│       │   └── neo4j_retriever.py # retrievers (e.g. Neo4jEmbeddingRetriever)\n",
        "│       ├── document_stores\n",
        "│       │   ├── neo4j_store.py # Implementation of the Neo4jDocumentStore, uses Neo4jClient to interact with Neo4j\n",
        "│       │   └── utils.py\n",
        "│       ├── errors.py\n",
        "│       └── metadata_filter # Utilities to parse metadata filters\n",
        "│           ├── neo4j_query_converter.py\n",
        "│           └── parser.py\n",
        "└── tests # Unit/Integration tests for better confidence when releasing :)\n",
        "```"
      ]
    },
    {
      "cell_type": "markdown",
      "metadata": {
        "id": "AxahRQ714Lj6"
      },
      "source": [
        "### Explore Neo4jDocumentStore"
      ]
    },
    {
      "cell_type": "markdown",
      "metadata": {
        "id": "RCpsukSa39_L"
      },
      "source": [
        "#### Install `neo4-haystack` package"
      ]
    },
    {
      "cell_type": "code",
      "execution_count": null,
      "metadata": {
        "id": "VLVGEGrz4ENQ"
      },
      "outputs": [],
      "source": [
        "!pip install sentence-transformers # required for producing embeddings in our examples\n",
        "!pip install neo4j-haystack"
      ]
    },
    {
      "cell_type": "markdown",
      "metadata": {
        "id": "DkFQjvEV9Tgk"
      },
      "source": [
        "#### Create DocumentStore with settings"
      ]
    },
    {
      "cell_type": "markdown",
      "metadata": {
        "id": "Zz8njbP-Ekrf"
      },
      "source": [
        "*We are [cleaning up](https://neo4j.com/docs/aura/auradb/managing-databases/database-actions/#_resetting_an_instance) existing Free instance in AuraDB before proceeding to the next step. There is \"Reset\" option in the console which wipes out all data. The following warning will be displayed before reset happens:*\n",
        "\n",
        "> *Resetting into a blank state will erase all data, so please be certain. If you want to keep the current data please take a snapshot and export it.*"
      ]
    },
    {
      "cell_type": "code",
      "execution_count": null,
      "metadata": {
        "id": "9bZDmJtG9XSF"
      },
      "outputs": [],
      "source": [
        "from google.colab import userdata\n",
        "from neo4j_haystack import Neo4jDocumentStore\n",
        "\n",
        "GRAPH_DB_URI = userdata.get(\"GRAPH_DB_URI\")\n",
        "GRAPH_DB_NAME = userdata.get(\"GRAPH_DB_NAME\")\n",
        "GRAPH_DB_SECRET = userdata.get(\"GRAPH_DB_SECRET\")\n",
        "\n",
        "document_store = Neo4jDocumentStore(\n",
        "    url=GRAPH_DB_URI,\n",
        "    username=\"neo4j\",\n",
        "    password=GRAPH_DB_SECRET,\n",
        "    database=GRAPH_DB_NAME,\n",
        "    index=\"document-embeddings\",  # The name of the Vector Index in Neo4j\n",
        "    node_label=\"Document\",  # Providing a label to Neo4j nodes which store Documents\n",
        "    embedding_dim=384,  # default is 768\n",
        "    embedding_field=\"embedding\",\n",
        "    similarity=\"cosine\",  # \"cosine\" is default value for similarity\n",
        "    progress_bar=False,\n",
        "    create_index_if_missing=False,\n",
        "    recreate_index=False,\n",
        "    write_batch_size=100,\n",
        "    verify_connectivity=True,  # Will try connect to Neo4j instance with given credentials as soon as Neo4jDocumentStore is created\n",
        ")"
      ]
    },
    {
      "cell_type": "markdown",
      "metadata": {
        "id": "-hdzqIyOGc7R"
      },
      "source": [
        "* With `verify_connectivity=True` if the code above runs without error it means connection to Neo4j was successful\n",
        "* `node_label=\"Movie\"` will ensure we are pointing Document Store to the nodes in the Movie Graph\n",
        "* `create_index_if_missing=False` will make sure we are not creating index\n",
        "* `recreate_index` is useful during local testing if you would like to recreate index each time if `True`\n",
        "* `similarity` is `cosine` by default (you could skip the setting of the value). another supported options is `l2` which maps to `euclidean` in Neo4j\n",
        "* `embedding_dim` value depends on model you are using for embeddings, e.g. for \"all-MiniLM-L6-v2\" from sentence-transformers it is `384`\n",
        "* `embedding_field` specified name of the node property which will be used to store and query embeddings, as well as vector indexing configuration.\n",
        "\n",
        "> Note: If you wondering why `username` is by default \"neo4j\" and is not a secret thats because \"neo4j\" user is created by default by AuraDB Free instance."
      ]
    },
    {
      "cell_type": "markdown",
      "metadata": {
        "id": "D5YDZg0_Xa85"
      },
      "source": [
        "If you try to count number of documents in the graph you should get `0` at this point"
      ]
    },
    {
      "cell_type": "code",
      "execution_count": null,
      "metadata": {
        "id": "NKElbfsXHUKL"
      },
      "outputs": [],
      "source": [
        "document_store.count_documents()"
      ]
    },
    {
      "cell_type": "markdown",
      "metadata": {
        "id": "jf8pmDKiXkCQ"
      },
      "source": [
        "Lets create the instance once more, We will omit some of the attributes and leave those with default values, but also instruct our code to create index if it does not exist"
      ]
    },
    {
      "cell_type": "code",
      "execution_count": null,
      "metadata": {
        "colab": {
          "base_uri": "https://localhost:8080/",
          "height": 211
        },
        "id": "bUh0ckfTYkMY",
        "outputId": "67dc1111-d90e-4d64-e489-61d6b06808f1"
      },
      "outputs": [],
      "source": [
        "# same as above but `create_index_if_missing=True` meaning index will be created automatically\n",
        "document_store = Neo4jDocumentStore(\n",
        "    url=GRAPH_DB_URI,\n",
        "    username=\"neo4j\",\n",
        "    password=GRAPH_DB_SECRET,\n",
        "    database=GRAPH_DB_NAME,\n",
        "    embedding_dim=384,\n",
        "    create_index_if_missing=True,\n",
        ")"
      ]
    },
    {
      "cell_type": "markdown",
      "metadata": {
        "id": "2-4cwpaRZDkk"
      },
      "source": [
        "Its time to see if index has been created in Neo4j, lets verify by running the following Cypher query:"
      ]
    },
    {
      "cell_type": "code",
      "execution_count": null,
      "metadata": {
        "id": "pGj7E7dQZJzU"
      },
      "outputs": [],
      "source": [
        "cypher_read_query(\"SHOW VECTOR INDEXES YIELD name, type, entityType, labelsOrTypes, properties, options\")"
      ]
    },
    {
      "cell_type": "markdown",
      "metadata": {
        "id": "DcEs-vjLZRmm"
      },
      "source": [
        "The result should be a record containing index information matching parameters specified for the `Neo4jDocumentStore` instance."
      ]
    },
    {
      "cell_type": "markdown",
      "metadata": {
        "id": "jWsRYA0lZqPk"
      },
      "source": [
        "Alternatively, Neo4j connection properties could be specified using a dedicated [Neo4jClientConfig](https://prosto.github.io/neo4j-haystack/reference/neo4j_client/#neo4j_haystack.client.neo4j_client.Neo4jClientConfig) data class. This additional data structure was created for code reuse and convenience so you could specify connection settings once and then share it between different instances of `Neo4jDocumentStore`. Internally `Neo4jDocumentStore` will create `Neo4jClientConfig` to hold credentials even if you directly provide credentials to the DocumentStore constructor as in examples above."
      ]
    },
    {
      "cell_type": "code",
      "execution_count": null,
      "metadata": {
        "id": "2GwpirdPbEbS"
      },
      "outputs": [],
      "source": [
        "from neo4j_haystack import Neo4jClientConfig, Neo4jDocumentStore\n",
        "\n",
        "client_config = Neo4jClientConfig(\n",
        "    url=GRAPH_DB_URI,\n",
        "    username=\"neo4j\",\n",
        "    password=GRAPH_DB_SECRET,\n",
        "    database=GRAPH_DB_NAME,\n",
        ")\n",
        "\n",
        "document_store = Neo4jDocumentStore(client_config=client_config, embedding_dim=384)"
      ]
    },
    {
      "cell_type": "markdown",
      "metadata": {
        "id": "tfTuqFyQcs2r"
      },
      "source": [
        "#### Write data to Document Store\n",
        "\n"
      ]
    },
    {
      "cell_type": "markdown",
      "metadata": {
        "id": "hIIO5ZAM0IX4"
      },
      "source": [
        "`Neo4jDocumentStore`, according to Protocol, provides `write_documents` method which can be used to write data to Neo4j and also update embeddings on the documents if provided.\n",
        "\n",
        "Before we need to prepare some data in the [Document](https://docs.haystack.deepset.ai/docs/data-classes#document) format.\n",
        "\n",
        "The `movies.json` was prepared to easily map to Haystack Document model, see below an example of a single json movie entry:\n",
        "\n",
        "```json\n",
        "{\n",
        "  \"id\": \"451999\",\n",
        "  \"content\": \"A 1916 film directed by Chester M. Franklin.\",\n",
        "  \"meta\": {\n",
        "    \"title\": \"Martha's Vindication\",\n",
        "    \"runtime\": 50.0,\n",
        "    \"vote_average\": 0.0,\n",
        "    \"release_date\": \"1916-02-20\",\n",
        "    \"genres\": [\"Drama\"]\n",
        "  }\n",
        "}\n",
        "```\n",
        "\n",
        "> **Important** `id` is provided in the json, each Document should have an id field. If not provided the `Document` class will automatically create/generate it based on its contents.\n"
      ]
    },
    {
      "cell_type": "code",
      "execution_count": null,
      "metadata": {
        "id": "LyAd9JI6fdBO"
      },
      "outputs": [],
      "source": [
        "import json\n",
        "from typing import List\n",
        "\n",
        "from haystack import Document\n",
        "from urllib.request import urlopen\n",
        "\n",
        "MOVIES_DATA_URL = \"https://raw.githubusercontent.com/prosto/neo4j-haystack-playground/main/data/movies.json\"\n",
        "\n",
        "def movie_documents() -> List[Document]:\n",
        "    with urlopen(MOVIES_DATA_URL) as movies_json:\n",
        "        file_contents = movies_json.read()\n",
        "        docs_json = json.loads(file_contents)\n",
        "        return [Document.from_dict(doc_json) for doc_json in docs_json]\n",
        "\n",
        "\n",
        "documents = movie_documents()\n",
        "\n",
        "display(documents[0])"
      ]
    },
    {
      "cell_type": "markdown",
      "metadata": {
        "id": "ji2JbQqWlOqR"
      },
      "source": [
        "Lets write movie Documents to the store:"
      ]
    },
    {
      "cell_type": "code",
      "execution_count": null,
      "metadata": {
        "id": "9KIV0-pkhQQT"
      },
      "outputs": [],
      "source": [
        "document_store.write_documents(documents)"
      ]
    },
    {
      "cell_type": "markdown",
      "metadata": {
        "id": "T4Cwxsralv9x"
      },
      "source": [
        "If you curious how to obtain data recently written to Neo4j, lets query it with Cypher:\n",
        "> **Quick Action** Navigate to [cypher_read_query](#cell_cypher_read_query) definition"
      ]
    },
    {
      "cell_type": "code",
      "execution_count": null,
      "metadata": {
        "id": "vxUAIiysl4kr"
      },
      "outputs": [],
      "source": [
        "cypher_read_query(\"MATCH (doc:Document) RETURN doc LIMIT 5\")"
      ]
    },
    {
      "cell_type": "markdown",
      "metadata": {
        "id": "Wo8kimSUmMx7"
      },
      "source": [
        "In addition to Protocol methods, `Neo4jDocumentStore` provides a number of helper methods, `get_document_by_id` is one of those. See all public methods in the [API documentation](https://prosto.github.io/neo4j-haystack/reference/neo4j_store/)"
      ]
    },
    {
      "cell_type": "code",
      "execution_count": null,
      "metadata": {
        "id": "wT-yxMDemNXF"
      },
      "outputs": [],
      "source": [
        "document_store.get_document_by_id(\"451999\").to_dict()"
      ]
    },
    {
      "cell_type": "markdown",
      "metadata": {
        "id": "9WEtYrZhm-xT"
      },
      "source": [
        "> **Important** The above `to_dict` invocation creates python `dict` from Document fields. You could call it with additional parameter `flatten=False` and in that case all metadata attributes (see original json from `movies.json`) will be stored under `meta` key (also as dictionary). In current implementation we expect `flatten=True` (default value) as Neo4j stores properties in a flat format (not nested)\n",
        "\n",
        "We will put Haystack Document representation and Neo4j graph node representation side by side for you to see how data is being stored and mapped:\n",
        "\n",
        "<table>\n",
        "<tr><th>Haystack</th><th>Neo4j (Node)</th></tr>\n",
        "<tr>\n",
        "<td>\n",
        "<pre>\n",
        "{\n",
        "  \"id\": \"451999\",\n",
        "  \"content\": \"A 1916 film directed by Chester M. Franklin.\",\n",
        "  \"dataframe\": null,\n",
        "  \"blob\": null,\n",
        "  \"score\": null,\n",
        "  \"embedding\": null,\n",
        "  \"title\": \"Martha's Vindication\",\n",
        "  \"vote_average\": 0.0,\n",
        "  \"genres\": [\"Drama\"],\n",
        "  \"release_date\": \"1916-02-20\",\n",
        "  \"runtime\": 50.0\n",
        "}\n",
        "<pre>\n",
        "</td>\n",
        "<td>\n",
        "<pre>\n",
        "{\n",
        "  \"identity\": 12,\n",
        "  \"labels\": [\"Document\"],\n",
        "  \"properties\": {\n",
        "    \"release_date\": \"1916-02-20\",\n",
        "    \"genres\": [\"Drama\"],\n",
        "    \"vote_average\": 0.0,\n",
        "    \"runtime\": 50.0,\n",
        "    \"id\": \"451999\",\n",
        "    \"title\": \"Martha's Vindication\",\n",
        "    \"content\": \"A 1916 film directed by Chester M. Franklin.\"\n",
        "  },\n",
        "  \"elementId\": \"4:bd65188c-5b0a-46c5-80ca-2ff365b9899a:12\"\n",
        "}\n",
        "</pre>\n",
        "</td>\n",
        "</tr>\n",
        "<table>\n",
        "\n",
        "> **Note:** Neo4j creates additional fields, e.g. `elementId` which are not controlled by DocumentStore. Haystack Document fields are mapped to Node's `properties`"
      ]
    },
    {
      "cell_type": "markdown",
      "metadata": {
        "id": "GJ4610w-uFX2"
      },
      "source": [
        "We did not create embeddings (see `\"embedding\": null` above) before writing documents to Neo4j. We could leverage `sentence_transformers` to create embeddings as before. However there is another way. Haystack allows you to run components directly, not only inside pipeline, and `SentenceTransformersDocumentEmbedder` could help us with that.\n",
        "\n"
      ]
    },
    {
      "cell_type": "code",
      "execution_count": null,
      "metadata": {
        "id": "fGD_bJOLvSz_"
      },
      "outputs": [],
      "source": [
        "from haystack.components.embedders import SentenceTransformersDocumentEmbedder\n",
        "\n",
        "document_embedder = SentenceTransformersDocumentEmbedder(\n",
        "    model=\"sentence-transformers/all-MiniLM-L6-v2\"\n",
        ")\n",
        "\n",
        "document_embedder.warm_up()  # will download the model during first run\n",
        "documents_with_embeddings = document_embedder.run(documents)"
      ]
    },
    {
      "cell_type": "code",
      "execution_count": null,
      "metadata": {
        "id": "Mc-HW9KKvjTY"
      },
      "outputs": [],
      "source": [
        "# Write documents with embeddings, in our case only embeddings are updated, rest of properties remain same:\n",
        "from haystack.document_stores.types import DuplicatePolicy\n",
        "\n",
        "document_store.write_documents(\n",
        "    documents_with_embeddings.get(\"documents\"), DuplicatePolicy.OVERWRITE\n",
        ")"
      ]
    },
    {
      "cell_type": "code",
      "execution_count": null,
      "metadata": {
        "id": "WORy23Ahvt7u"
      },
      "outputs": [],
      "source": [
        "# Retrieve documents with embeddings:\n",
        "document_store.filter_documents()"
      ]
    },
    {
      "cell_type": "markdown",
      "metadata": {
        "id": "XeejC-FswpP6"
      },
      "source": [
        "`Neo4jDocumentStore` exposes `query_by_embedding` custom method to help you query Vector Index in Neo4j. We know there is a movie with the following description:\n",
        "\n",
        "> A film student robs a bank under the guise of shooting a short film about a bank robbery.\n",
        "\n",
        "We will embed a query which looks semantically similar and ask document store to find the document for us.\n",
        "\n",
        "<a id=\"cell_embed_text\" name=\"cell_embed_text\"></a>"
      ]
    },
    {
      "cell_type": "code",
      "execution_count": null,
      "metadata": {
        "id": "wYyMlXCXxsdA"
      },
      "outputs": [],
      "source": [
        "from haystack.components.embedders import SentenceTransformersTextEmbedder\n",
        "\n",
        "\n",
        "def embed_text(text):\n",
        "    text_embedder = SentenceTransformersTextEmbedder(\n",
        "        model=\"sentence-transformers/all-MiniLM-L6-v2\"\n",
        "    )\n",
        "    text_embedder.warm_up()\n",
        "\n",
        "    return text_embedder.run(text).get(\"embedding\")\n",
        "\n",
        "\n",
        "query_embedding = embed_text(\n",
        "    \"A young fella pretending to be a good citizen but actually planning to commit a crime\"\n",
        ")\n",
        "\n",
        "similar_documents = document_store.query_by_embedding(query_embedding, top_k=3)\n",
        "\n",
        "# expected document should be in the list (not necessarily first)\n",
        "display(similar_documents)"
      ]
    },
    {
      "cell_type": "markdown",
      "metadata": {
        "id": "LAgjEpHr6p5u"
      },
      "source": [
        "#### Metadata Filtering"
      ]
    },
    {
      "cell_type": "markdown",
      "metadata": {
        "id": "9dgD-DHs6utd"
      },
      "source": [
        "You probably noticed `Neo4jDocumentStore` as part of its Document Store Protocol implementation provides `filter_documents` method. It has the following signature:\n",
        "\n",
        "```python\n",
        "filter_documents(self, filters: Optional[FilterType] = None) -> List[Document]\n",
        "```\n",
        "\n",
        "You can use it to retrieve documents from Neo4j with [metadata filters](https://docs.haystack.deepset.ai/v2.0/docs/metadata-filtering)\n",
        "\n",
        "Internally `Neo4jDocumentStore` converts filters into Cypher query, specifically into [WHERE clause](https://neo4j.com/docs/cypher-manual/current/clauses/where/). For that two utility classes [FilterParser](https://prosto.github.io/neo4j-haystack/reference/metadata_filter/parser/) and [Neo4jQueryConverter](https://prosto.github.io/neo4j-haystack/reference/metadata_filter/neo4j_query_converter/) parse and convert filters to Cypher syntax respectively.\n",
        "\n",
        "The following example uses both classes to produce a parsed Cypher query:"
      ]
    },
    {
      "cell_type": "code",
      "execution_count": null,
      "metadata": {
        "colab": {
          "base_uri": "https://localhost:8080/"
        },
        "id": "yANBDOdO6tYJ",
        "outputId": "26525a50-05be-461b-e043-ae56f80de473"
      },
      "outputs": [],
      "source": [
        "from neo4j_haystack.metadata_filter import FilterParser, Neo4jQueryConverter\n",
        "\n",
        "parser = FilterParser()\n",
        "converter = Neo4jQueryConverter(field_name_prefix=\"doc\")\n",
        "\n",
        "filters = {\n",
        "    \"operator\": \"OR\",\n",
        "    \"conditions\": [\n",
        "        {\n",
        "            \"operator\": \"AND\",\n",
        "            \"conditions\": [\n",
        "                {\"field\": \"type\", \"operator\": \"==\", \"value\": \"news\"},\n",
        "                {\"field\": \"likes\", \"operator\": \"!=\", \"value\": 100},\n",
        "            ],\n",
        "        },\n",
        "        {\n",
        "            \"operator\": \"AND\",\n",
        "            \"conditions\": [\n",
        "                {\"field\": \"type\", \"operator\": \"==\", \"value\": \"blog\"},\n",
        "                {\"field\": \"likes\", \"operator\": \">=\", \"value\": 500},\n",
        "            ],\n",
        "        },\n",
        "    ],\n",
        "}\n",
        "\n",
        "filter_ast = parser.parse(filters)\n",
        "cypher_query, params = converter.convert(filter_ast)\n",
        "\n",
        "cypher_query, params"
      ]
    },
    {
      "cell_type": "markdown",
      "metadata": {
        "id": "Bj5rbbl49d5S"
      },
      "source": [
        "You should get the following query (applicable as `WHERE` clause):\n",
        "\n",
        "```cypher\n",
        "((doc.type = $fv_type AND doc.likes < $fv_likes) OR (doc.type = $fv_type_1 AND doc.likes >= $fv_likes_1))\n",
        "```\n",
        "\n",
        "with parameters (`params`):\n",
        "\n",
        "```python\n",
        "{\"fv_type\": \"news\", \"fv_likes\": 100, \"fv_type_1\": \"blog\", \"fv_likes_1\": 500}\n",
        "```\n",
        "\n",
        "> **Note** The reason Cypher query is accompanied with parameters is because we delegate data type conversion of parameter values to Neo4j Python Driver instead of repeating the logic in this class. See the full mapping of core and extended types in the Data Types document.\n"
      ]
    },
    {
      "cell_type": "markdown",
      "metadata": {
        "id": "Jo4DZVIhBwAI"
      },
      "source": [
        "Lets find some movies, comedy is preferable 😀"
      ]
    },
    {
      "cell_type": "code",
      "execution_count": null,
      "metadata": {
        "id": "ySgAEjEGB_hR"
      },
      "outputs": [],
      "source": [
        "# \"Comedy\" genre\n",
        "document_store.filter_documents({\n",
        "    \"field\": \"genres\",\n",
        "    \"operator\": \"in\",\n",
        "    \"value\": [\"Comedy\"]\n",
        "})\n"
      ]
    },
    {
      "cell_type": "code",
      "execution_count": null,
      "metadata": {
        "id": "r3PXPo1AEChZ"
      },
      "outputs": [],
      "source": [
        "# \"Comedy\" genre with average rating > 7\n",
        "document_store.filter_documents({\n",
        "    \"operator\": \"AND\",\n",
        "    \"conditions\": [\n",
        "        {\"field\": \"genres\", \"operator\": \"in\", \"value\": [\"Comedy\"]},\n",
        "        {\"field\": \"vote_average\", \"operator\": \">\", \"value\": 7},\n",
        "    ],\n",
        "})"
      ]
    },
    {
      "cell_type": "markdown",
      "metadata": {
        "id": "CAlJf3IGEQz-"
      },
      "source": [
        "`filter_documents` does not allow querying Neo4j graph embedding with metadata filters combined. `query_by_embedding` will give you that:\n",
        "\n",
        "> **Quick Action** Navigate to [embed_text](#cell_embed_text) definition"
      ]
    },
    {
      "cell_type": "code",
      "execution_count": null,
      "metadata": {
        "id": "AqdxfsXhbac8"
      },
      "outputs": [],
      "source": [
        "query_embedding = embed_text(\"Never growing up\")\n",
        "filters = {\"field\": \"genres\", \"operator\": \"in\", \"value\": [\"Comedy\"]}\n",
        "\n",
        "similar_documents = document_store.query_by_embedding(\n",
        "    query_embedding, top_k=10, filters=filters\n",
        ")\n",
        "\n",
        "display(similar_documents)"
      ]
    },
    {
      "cell_type": "markdown",
      "metadata": {
        "id": "iFkKGaB6qGqA"
      },
      "source": [
        "## Explore RAG Pipelines"
      ]
    },
    {
      "cell_type": "code",
      "execution_count": null,
      "metadata": {
        "id": "XMfaBYkai4HA"
      },
      "outputs": [],
      "source": [
        "!pip install sentence-transformers # required for producing embeddings in our examples\n",
        "!pip install neo4j-haystack"
      ]
    },
    {
      "cell_type": "code",
      "execution_count": null,
      "metadata": {
        "id": "OG_6GS8zsMsw"
      },
      "outputs": [],
      "source": [
        "# setup common utils and constants\n",
        "from google.colab import userdata\n",
        "\n",
        "GRAPH_DB_URI = userdata.get(\"GRAPH_DB_URI\")\n",
        "GRAPH_DB_NAME = userdata.get(\"GRAPH_DB_NAME\")\n",
        "GRAPH_DB_SECRET = userdata.get(\"GRAPH_DB_SECRET\")\n",
        "\n",
        "GOT_DOCS_DIR = \"data/got\"\n",
        "GOT_ZIP_URL = \"https://s3.eu-central-1.amazonaws.com/deepset.ai-farm-qa/datasets/documents/wiki_gameofthrones_txt6.zip\"\n",
        "\n",
        "MODEL_EMBEDDING_DIM = 384\n",
        "MODEL_EMBEDDING_NAME = \"sentence-transformers/all-MiniLM-L6-v2\"\n",
        "\n",
        "HF_API_TOKEN = userdata.get(\"HF_TOKEN\")"
      ]
    },
    {
      "cell_type": "code",
      "execution_count": null,
      "metadata": {
        "id": "KnNgsasOvZ1s"
      },
      "outputs": [],
      "source": [
        "# download Game of Thrones (GOT) wiki\n",
        "!mkdir -p $GOT_DOCS_DIR\n",
        "!wget $GOT_ZIP_URL -O wiki_gameofthrones_txt6.zip\n",
        "!unzip -o wiki_gameofthrones_txt6.zip -d $GOT_DOCS_DIR"
      ]
    },
    {
      "cell_type": "markdown",
      "metadata": {
        "id": "o9yZJVEjrOfu"
      },
      "source": [
        "### Indexing Pipeline"
      ]
    },
    {
      "cell_type": "markdown",
      "metadata": {
        "id": "50Gh_Qimx135"
      },
      "source": [
        "Our pipeline will:\n",
        "\n",
        "* Convert wiki txt files to Document using [TextFileToDocument](https://docs.haystack.deepset.ai/docs/textfiletodocument) component\n",
        "* Preprocessed documents with [DocumentCleaner](https://docs.haystack.deepset.ai/docs/documentcleaner), e.g. remove empty lines\n",
        "* Split Documents by chunks of length 250 using [DocumentSplitter](https://docs.haystack.deepset.ai/docs/documentsplitter)\n",
        "* Embed resulting chunked Documents with SentenceTransformersDocumentEmbedder\n",
        "* Write Document chunks to Neo4j as Graph Nodes using [DocumentWriter](https://docs.haystack.deepset.ai/docs/documentwriter)\n",
        "\n",
        "> **Note** How `DocumentWriter` is given `Neo4jDocumentStore` as a store to rite documents to. Here comes the benefit of having a common Protocol for multiple stores.\n",
        "\n"
      ]
    },
    {
      "cell_type": "code",
      "execution_count": null,
      "metadata": {
        "colab": {
          "base_uri": "https://localhost:8080/",
          "height": 66,
          "referenced_widgets": [
            "7bfc1d7bcc864055add1faae0736f204",
            "823bf2d85c5b4259b248352975561bf7",
            "252f04be616c4e06ac2a82344f70c938",
            "59b6b12877bf4a4fbeb80d530ba6fe2f",
            "7930284422964193a293e6e6514231fd",
            "594f42765fbe4f08b852e2c5519f82f5",
            "1ad86ff0e0af414699a407dd45532d94",
            "df4ee63bd9e24d8599011fbc2cdb33b3",
            "2c0d282c8cb848f28755eee2f2c93f5f",
            "9815bed8da6046b9a64f416d1f162309",
            "0909dbd76b5443beb79e1f89585a62b7"
          ]
        },
        "id": "_QKpduk3rSsu",
        "outputId": "1c8d4114-2149-4a9a-a3b0-3d2b1fa4aebf"
      },
      "outputs": [],
      "source": [
        "import os\n",
        "from pathlib import Path\n",
        "\n",
        "from haystack import Pipeline\n",
        "from haystack.components.converters import TextFileToDocument\n",
        "from haystack.components.embedders import SentenceTransformersDocumentEmbedder\n",
        "from haystack.components.preprocessors import DocumentCleaner, DocumentSplitter\n",
        "from haystack.components.writers import DocumentWriter\n",
        "from haystack.document_stores.types import DuplicatePolicy\n",
        "\n",
        "from neo4j_haystack import Neo4jDocumentStore\n",
        "\n",
        "document_store = Neo4jDocumentStore(\n",
        "    url=GRAPH_DB_URI,\n",
        "    username=\"neo4j\",\n",
        "    password=GRAPH_DB_SECRET,\n",
        "    database=GRAPH_DB_NAME,\n",
        "    embedding_dim=MODEL_EMBEDDING_DIM,\n",
        "    create_index_if_missing=True,\n",
        ")\n",
        "\n",
        "# Create components and an indexing pipeline that converts txt to documents, cleans and splits them, and\n",
        "# indexes them for dense retrieval.\n",
        "pipe = Pipeline()\n",
        "pipe.add_component(\"text_file_converter\", TextFileToDocument())\n",
        "pipe.add_component(\"cleaner\", DocumentCleaner())\n",
        "pipe.add_component(\n",
        "    \"splitter\", DocumentSplitter(split_by=\"word\", split_length=400, split_overlap=30)\n",
        ")\n",
        "pipe.add_component(\n",
        "    \"embedder\", SentenceTransformersDocumentEmbedder(model=MODEL_EMBEDDING_NAME)\n",
        ")\n",
        "pipe.add_component(\"writer\", DocumentWriter(document_store=document_store))\n",
        "\n",
        "pipe.connect(\"text_file_converter.documents\", \"cleaner.documents\")\n",
        "pipe.connect(\"cleaner.documents\", \"splitter.documents\")\n",
        "pipe.connect(\"splitter.documents\", \"embedder.documents\")\n",
        "pipe.connect(\"embedder.documents\", \"writer.documents\")\n",
        "\n",
        "doc_sources = [GOT_DOCS_DIR / Path(name) for name in os.listdir(GOT_DOCS_DIR)]\n",
        "result = pipe.run({\"text_file_converter\": {\"sources\": doc_sources}})\n",
        "\n",
        "display(result)"
      ]
    },
    {
      "cell_type": "code",
      "execution_count": null,
      "metadata": {
        "id": "IbBiJlSMt41i"
      },
      "outputs": [],
      "source": [
        "# display pipeline diagram\n",
        "pipe.show()"
      ]
    },
    {
      "cell_type": "code",
      "execution_count": null,
      "metadata": {
        "id": "t8b-B6QvzhDa"
      },
      "outputs": [],
      "source": [
        "# count number of documents written\n",
        "document_store.count_documents()"
      ]
    },
    {
      "cell_type": "markdown",
      "metadata": {
        "id": "otckaudo2JyC"
      },
      "source": [
        "### Generative Question Answering Pipeline"
      ]
    },
    {
      "cell_type": "markdown",
      "metadata": {
        "id": "bVR0l8qC-72q"
      },
      "source": [
        "Our pipeline will:\n",
        "\n",
        "* Create `Neo4jDocumentStore` with required credentials. It will be used to connect to previously indexed documents\n",
        "* Embed text query (our question) using [SentenceTransformersTextEmbedder](https://docs.haystack.deepset.ai/docs/sentencetransformerstextembedder)\n",
        "* Pass query embedding to [Neo4jEmbeddingRetriever](https://prosto.github.io/neo4j-haystack/reference/neo4j_retriever/#neo4j_haystack.components.neo4j_retriever.Neo4jEmbeddingRetriever) which will obtain similar documents from `Neo4jDocumentStore`\n",
        "* Construct simple Q/A prompt using [PromptBuilder](https://docs.haystack.deepset.ai/docs/promptbuilder) by passing over retrieved documents from Neo4j as a prompt context\n",
        "* Ask \"Mistral-7B\" model the question with context consisting of previously found documents. [HuggingFaceTGIGenerator](https://docs.haystack.deepset.ai/docs/huggingfacetgigenerator) will interact with TGI endpoint and require HF_TOKEN for this.\n",
        "* Generated answer is parsed/composed by the [AnswerBuilder](https://docs.haystack.deepset.ai/docs/answerbuilder) component as a final execution step of the pipeline"
      ]
    },
    {
      "cell_type": "code",
      "execution_count": null,
      "metadata": {
        "colab": {
          "base_uri": "https://localhost:8080/",
          "height": 267,
          "referenced_widgets": [
            "92da556179374b9c9b88c7479932bc4e",
            "71e7e309c17541bd9c7b6c9337b1ecf0",
            "0e55737b4ebd4246860c47aeffeb2d75",
            "d1a37a3453b04b4a82c38933471954db",
            "69cae06bafac42d3b0e0236146d81c46",
            "c7da9633189f44e1a74f440191ff511d",
            "49b7bf116d994460a24da929c22ac962",
            "4a19b2a092e6461d8fc3ea7c834751b9",
            "fcb4e8b57bc641a198f23b156b577899",
            "64da336c9ddd43d981cb403031f0467b",
            "810926b9c9f642639ca6ac21d2d279cc",
            "ea8c4d4f43a340e894c0a7d22c6b2cc3",
            "36d657f4202c4a98afdb959529252cd1",
            "9bf022d7091e4e3392c910e5c3f640f9",
            "ea60006b7b864033a6d48ba7a52dbc32",
            "47a4a297f7f54786b4583d624f05bea0",
            "dda8efdfde72455089bb6e9088764297",
            "979553b6f19a4628bcad2d178ddee6bf",
            "d95d5e5af11f476993094c7d83dfb70d",
            "67979f69333c43e88cf30ade1f444bf0",
            "974dcfc4b3034bfe81a5e298e72acda8",
            "a14a0362a0e346a5849a18d174c2e234",
            "5600d6fe16df4b908f818df3c7aa29b8",
            "0c1d5ec9c45d4f14b93c527490dba2fe",
            "762e4b8b21644595b04cdc080bf73423",
            "e94d50a46d5142d4af53ecf5da3770fc",
            "36dc98f699a74c38968ee0373cc11cad",
            "76cc219542fc47a6946be70a7a6d278e",
            "0c9df7cb7ceb46fb8e55a8738e65a156",
            "6271e3cd80a1478bba9eedda4cf23385",
            "efd536cd36624457b4ff7816b4622229",
            "bc8ba30790fb45c189429c67cb714975",
            "f70298c3b51e4fc69098a096b90d25e9",
            "89ad145ea9fe408194f2e8c82a333fa4",
            "8add761672df4a31b727aa7870dc06f0",
            "dc935cc810c7499d9d2b25aa04808741",
            "608f10b5966d4eb999af86cb4c38924c",
            "c3ce73e2e3a74c42b55f9dc747657b22",
            "13f1b9a220484f259b4dde79a9670322",
            "57bab3734feb47beb885e22b8e12bbe9",
            "a8b8b0f313df4b72a0b0877e05dcbb80",
            "83a71281d77443bf9c56c61ac4d40407",
            "83db5ff8bbe04a1e89dd70764b2483ab",
            "afae7e35dea94f438fbb5aad0eeca01c"
          ]
        },
        "id": "0OCBB5ig2kB1",
        "outputId": "02306ffa-b2ed-4c15-cfc3-1002482eafea"
      },
      "outputs": [],
      "source": [
        "from haystack import GeneratedAnswer, Pipeline\n",
        "from haystack.components.builders.answer_builder import AnswerBuilder\n",
        "from haystack.components.builders.prompt_builder import PromptBuilder\n",
        "from haystack.components.embedders import SentenceTransformersTextEmbedder\n",
        "from haystack.components.generators import HuggingFaceTGIGenerator\n",
        "from haystack.utils import Secret\n",
        "\n",
        "from neo4j_haystack import Neo4jDocumentStore, Neo4jEmbeddingRetriever\n",
        "\n",
        "HF_TOKEN = Secret.from_token(HF_API_TOKEN)\n",
        "\n",
        "document_store = Neo4jDocumentStore(\n",
        "    url=GRAPH_DB_URI,\n",
        "    username=\"neo4j\",\n",
        "    password=GRAPH_DB_SECRET,\n",
        "    database=GRAPH_DB_NAME,\n",
        "    embedding_dim=MODEL_EMBEDDING_DIM,\n",
        "    create_index_if_missing=False,\n",
        ")\n",
        "\n",
        "prompt_template = \"\"\"\n",
        "Given these documents, answer the question using one sentence.\\nDocuments:\n",
        "{% for doc in documents %}\n",
        "    {{ doc.content }}\n",
        "{% endfor %}\n",
        "\n",
        "\\nQuestion: {{question}}\n",
        "\\nAnswer:\n",
        "\"\"\"\n",
        "pipe = Pipeline()\n",
        "pipe.add_component(\n",
        "    \"query_embedder\",\n",
        "    SentenceTransformersTextEmbedder(model=MODEL_EMBEDDING_NAME, progress_bar=False),\n",
        ")\n",
        "pipe.add_component(\"retriever\", Neo4jEmbeddingRetriever(document_store=document_store))\n",
        "pipe.add_component(\"prompt_builder\", PromptBuilder(template=prompt_template))\n",
        "pipe.add_component(\n",
        "    \"llm\",\n",
        "    HuggingFaceTGIGenerator(model=\"mistralai/Mistral-7B-Instruct-v0.2\",\n",
        "                            token=HF_TOKEN,\n",
        "                            generation_kwargs={ \"max_new_tokens\": 50 }),\n",
        ")\n",
        "pipe.add_component(\"answer_builder\", AnswerBuilder())\n",
        "\n",
        "pipe.connect(\"query_embedder\", \"retriever.query_embedding\")\n",
        "pipe.connect(\"retriever.documents\", \"prompt_builder.documents\")\n",
        "pipe.connect(\"prompt_builder.prompt\", \"llm.prompt\")\n",
        "pipe.connect(\"llm.replies\", \"answer_builder.replies\")\n",
        "pipe.connect(\"llm.meta\", \"answer_builder.meta\")\n",
        "pipe.connect(\"retriever\", \"answer_builder.documents\")\n",
        "\n",
        "# Ask a question on the data you just added.\n",
        "question = \"Who created the Dothraki vocabulary?\"\n",
        "result = pipe.run(\n",
        "    {\n",
        "        \"query_embedder\": {\"text\": question},\n",
        "        \"retriever\": {\"top_k\": 3},\n",
        "        \"prompt_builder\": {\"question\": question},\n",
        "        \"answer_builder\": {\"query\": question},\n",
        "    }\n",
        ")\n",
        "\n",
        "# For details, like which documents were used to generate the answer, look into the GeneratedAnswer object\n",
        "answer: GeneratedAnswer = result[\"answer_builder\"][\"answers\"][0]\n",
        "\n",
        "print(f\"\"\"\n",
        "Query: {answer.query}\n",
        "Answer: ${answer.data}\n",
        "== Sources: {'\\n'.join([doc.meta['file_path'] for doc in answer.documents])}\n",
        "\"\"\")"
      ]
    },
    {
      "cell_type": "markdown",
      "metadata": {
        "id": "5tN4h5EiWxV6"
      },
      "source": [
        "### RAG on Existing Graph"
      ]
    },
    {
      "cell_type": "markdown",
      "metadata": {
        "id": "kEMKi8cqapMA"
      },
      "source": [
        "*Prerequisites*\n",
        "\n",
        "*To test the pipeline you need a \"Movie Graph\" database with data and embeddings. We can [import an existing database](https://neo4j.com/docs/aura/auradb/importing/import-database/) from [github repo](https://github.com/prosto/neo4j-haystack-playground/blob/main/data/movie-graph-with-embeddings-384.dump).*\n",
        "\n",
        "*`movie-graph-with-embeddings-384.dump` comes with embeddings for the `Movie:tagline` text field and `movie-embeddings` index. The `sentence-transformers/all-MiniLM-L6-v2` model was used to generate embeddings with dimension `384`*\n",
        "\n",
        "*Before importing you might need to [clean up](https://neo4j.com/docs/aura/auradb/managing-databases/database-actions/#_resetting_an_instance) AuraDB Free instance to have a pristine setup for the next exercise.*"
      ]
    },
    {
      "cell_type": "markdown",
      "metadata": {
        "id": "b5TdkYnoXrEq"
      },
      "source": [
        "In certain scenarios you might have an existing graph in Neo4j database which was created by custom scripts or data ingestion pipelines. The schema of the graph could be complex and not exactly fitting into Haystack Document model. Moreover in many situations you might want to leverage existing graph data to extract more context for grounding LLMs. To make it possible with Haystack `neo4j-haystack` package provides [Neo4jDynamicDocumentRetriever](https://prosto.github.io/neo4j-haystack/reference/neo4j_retriever/#neo4j_haystack.components.neo4j_retriever.Neo4jDynamicDocumentRetriever) component - a flexible retriever which can run arbitrary Cypher query to obtain documents. This component does not require Document Store to operate.\n",
        "\n",
        "We will use the \"Movie Graph\" we created before to find best matching tagline for a movie.\n",
        "\n",
        "Below is the schema of the Movie Graph to help us understand how to query Neo4j:\n",
        "\n",
        "<table width=\"100%\"><tr>\n",
        "<td bgcolor=\"5b6663\" align=\"center\" valign=\"center\">\n",
        "<img width=\"23%\" src=\"https://raw.githubusercontent.com/prosto/neo4j-haystack-playground/2e41a0f8b247eed21d69a28e9ebcd1261c854c6d/images/movie-graph-schema.svg\"/>\n",
        "</td>\n",
        "</tr></table>\n",
        "\n",
        "To better understand what data is available in each Graph node lets look at the table below:\n",
        "\n",
        "```\n",
        "╒═══════════╤══════════╤════════════╤══════════════╤═════════╕\n",
        "│nodeType   │nodeLabels│propertyName│propertyTypes │mandatory│\n",
        "╞═══════════╪══════════╪════════════╪══════════════╪═════════╡\n",
        "│\":`Person`\"│[\"Person\"]│\"born\"      │[\"Long\"]      │false    │\n",
        "├───────────┼──────────┼────────────┼──────────────┼─────────┤\n",
        "│\":`Person`\"│[\"Person\"]│\"name\"      │[\"String\"]    │true     │\n",
        "├───────────┼──────────┼────────────┼──────────────┼─────────┤\n",
        "│\":`Movie`\" │[\"Movie\"] │\"tagline\"   │[\"String\"]    │false    │\n",
        "├───────────┼──────────┼────────────┼──────────────┼─────────┤\n",
        "│\":`Movie`\" │[\"Movie\"] │\"title\"     │[\"String\"]    │true     │\n",
        "├───────────┼──────────┼────────────┼──────────────┼─────────┤\n",
        "│\":`Movie`\" │[\"Movie\"] │\"released\"  │[\"Long\"]      │true     │\n",
        "├───────────┼──────────┼────────────┼──────────────┼─────────┤\n",
        "│\":`Movie`\" │[\"Movie\"] │\"embedding\" │[\"FloatArray\"]│true     │\n",
        "└───────────┴──────────┴────────────┴──────────────┴─────────┘\n",
        "```\n",
        "\n",
        "> **Note** In our case `embedding` field stores the embedding vector for the `tagline` field\n",
        "\n",
        "Our pipeline will:\n",
        "\n",
        "* Create `Neo4jDynamicDocumentRetriever` with required credentials and Cypher query to find matching taglines and respective movies. We will also collect related actors and directors for found movies. We could use all this information if the LLM prompt\n",
        "* Embed tagline guess using `SentenceTransformersTextEmbedder`. Idea is to search for something that comes to our mind and \"resonates\" with some movie.\n",
        "* Pass query embedding to `Neo4jDynamicDocumentRetriever` which will obtain movies with additional data directly from Neo4j (we do not use `Neo4jDocumentStore` here)\n",
        "* Construct prompt `PromptBuilder` instructing LLM to pick up best matching tagline and compose letter to the movie director explaining the tagline.\n",
        "* Ask \"Mixtral-8x7B-Instruct-v0.1\" LLM model to generate email letter based on the prompt from the builder.\n",
        "* Compose answer data with `AnswerBuilder` component and display results with respective movies found in Neo4j\n"
      ]
    },
    {
      "cell_type": "code",
      "execution_count": null,
      "metadata": {
        "colab": {
          "base_uri": "https://localhost:8080/"
        },
        "id": "y_yyXrJAYHUW",
        "outputId": "8be77718-066c-422c-ee64-043ffeda4687"
      },
      "outputs": [],
      "source": [
        "from haystack import GeneratedAnswer, Pipeline\n",
        "from haystack.components.builders.answer_builder import AnswerBuilder\n",
        "from haystack.components.builders.prompt_builder import PromptBuilder\n",
        "from haystack.components.embedders import SentenceTransformersTextEmbedder\n",
        "from haystack.components.generators import HuggingFaceTGIGenerator\n",
        "from haystack.utils import Secret\n",
        "\n",
        "from neo4j_haystack import Neo4jClientConfig, Neo4jDynamicDocumentRetriever\n",
        "\n",
        "HF_TOKEN = Secret.from_token(HF_API_TOKEN)\n",
        "\n",
        "client_config = Neo4jClientConfig(\n",
        "    url=GRAPH_DB_URI,\n",
        "    username=\"neo4j\",\n",
        "    password=GRAPH_DB_SECRET,\n",
        "    database=GRAPH_DB_NAME,\n",
        ")\n",
        "\n",
        "rag_cypher_query = \"\"\"\n",
        "  CALL db.index.vector.queryNodes($index, $top_k, $query_embedding)\n",
        "  YIELD node as movie, score\n",
        "  MATCH (movie)\n",
        "  WITH movie, score\n",
        "  MATCH (actor:Person)-[:ACTED_IN]->(movie), (director:Person)-[:DIRECTED]->(movie)\n",
        "  WITH movie, score, COLLECT(distinct actor.name) AS actors, COLLECT(distinct director.name) AS directors\n",
        "  RETURN movie{.*, content: movie.tagline, score, actors, directors}\n",
        "  ORDER BY score DESC LIMIT $top_k\n",
        "\"\"\"\n",
        "\n",
        "prompt_template = \"\"\"\n",
        "Given the list of Movies with it's title, tagline and movie directors pick up\n",
        "one of the taglines which matches the given guess and write a short email letter to the movie\n",
        "director of the matched tagline explaining the meaning of the tagline.\n",
        "The letter should be concise and have no more than 3 setntences.\n",
        "Sign the letter with the name: \"{{letter_from}}\".\n",
        "\n",
        "\\nMovies:\n",
        "{% for doc in documents %}\n",
        "  - Title: {{ doc.meta['title'] }}, Tagline: {{ doc.meta['tagline'] }}, Directors: {{ doc.meta['directors'] }}\n",
        "{% endfor %}\n",
        "\n",
        "\\nTagline Guess: {{tagline_guess}}\n",
        "\\nLetter to the director:\n",
        "\"\"\"\n",
        "pipe = Pipeline()\n",
        "pipe.add_component(\n",
        "    \"query_embedder\",\n",
        "    SentenceTransformersTextEmbedder(model=MODEL_EMBEDDING_NAME, progress_bar=False),\n",
        ")\n",
        "pipe.add_component(\n",
        "    \"retriever\",\n",
        "    Neo4jDynamicDocumentRetriever(\n",
        "        client_config=client_config,\n",
        "        runtime_parameters=[\"query_embedding\"],\n",
        "        doc_node_name=\"movie\",\n",
        "        verify_connectivity=True,\n",
        "    ),\n",
        ")\n",
        "pipe.add_component(\"prompt_builder\", PromptBuilder(template=prompt_template))\n",
        "pipe.add_component(\n",
        "    \"llm\",\n",
        "    HuggingFaceTGIGenerator(\n",
        "        model=\"mistralai/Mixtral-8x7B-Instruct-v0.1\",\n",
        "        token=HF_TOKEN,\n",
        "        generation_kwargs={\"max_new_tokens\": 500},\n",
        "    ),\n",
        ")\n",
        "pipe.add_component(\"answer_builder\", AnswerBuilder())\n",
        "\n",
        "pipe.connect(\"query_embedder\", \"retriever.query_embedding\")\n",
        "pipe.connect(\"retriever.documents\", \"prompt_builder.documents\")\n",
        "pipe.connect(\"prompt_builder.prompt\", \"llm.prompt\")\n",
        "pipe.connect(\"llm.replies\", \"answer_builder.replies\")\n",
        "pipe.connect(\"llm.meta\", \"answer_builder.meta\")\n",
        "pipe.connect(\"retriever\", \"answer_builder.documents\")\n",
        "\n",
        "# Ask a question on the data you just added.\n",
        "tagline_guess = \"What are the odds of meeting each other?\"\n",
        "result = pipe.run(\n",
        "    {\n",
        "        \"query_embedder\": {\"text\": tagline_guess},\n",
        "        \"retriever\": {\n",
        "            \"query\": rag_cypher_query,\n",
        "            \"parameters\": {\"index\": \"movie-embeddings\", \"top_k\": 5},\n",
        "        },\n",
        "        \"prompt_builder\": {\"tagline_guess\": tagline_guess, \"letter_from\": \"Haystack & Neo4j\"},\n",
        "        \"answer_builder\": {\"query\": tagline_guess},\n",
        "    }\n",
        ")\n",
        "\n",
        "answer: GeneratedAnswer = result[\"answer_builder\"][\"answers\"][0]\n",
        "\n",
        "def movie_sources():\n",
        "    sources = []\n",
        "    for movie_doc in answer.documents:\n",
        "        movie_info = (\n",
        "            f\"Score: {movie_doc.score}, \"\n",
        "            f\"Movie Title: {movie_doc.meta['title']}, \"\n",
        "            f\"Movie Tagline: {movie_doc.meta['tagline']}, \"\n",
        "            f\"Directors: {str(movie_doc.meta['directors'])}\"\n",
        "        )\n",
        "        sources.append(movie_info)\n",
        "    return sources\n",
        "\n",
        "\n",
        "print(answer.data)\n",
        "print(\"============\")\n",
        "print(\"\\n\".join(movie_sources()))"
      ]
    }
  ],
  "metadata": {
    "colab": {
      "include_colab_link": true,
      "provenance": [],
      "toc_visible": true
    },
    "kernelspec": {
      "display_name": "Python 3",
      "name": "python3"
    },
    "widgets": {
      "application/vnd.jupyter.widget-state+json": {
        "01827fd45c2b4abe893112c77fe87dd7": {
          "model_module": "@jupyter-widgets/controls",
          "model_module_version": "1.5.0",
          "model_name": "DescriptionStyleModel",
          "state": {
            "_model_module": "@jupyter-widgets/controls",
            "_model_module_version": "1.5.0",
            "_model_name": "DescriptionStyleModel",
            "_view_count": null,
            "_view_module": "@jupyter-widgets/base",
            "_view_module_version": "1.2.0",
            "_view_name": "StyleView",
            "description_width": ""
          }
        },
        "0909dbd76b5443beb79e1f89585a62b7": {
          "model_module": "@jupyter-widgets/controls",
          "model_module_version": "1.5.0",
          "model_name": "DescriptionStyleModel",
          "state": {
            "_model_module": "@jupyter-widgets/controls",
            "_model_module_version": "1.5.0",
            "_model_name": "DescriptionStyleModel",
            "_view_count": null,
            "_view_module": "@jupyter-widgets/base",
            "_view_module_version": "1.2.0",
            "_view_name": "StyleView",
            "description_width": ""
          }
        },
        "0a2db2efdb4943f082a4156fe61cef4b": {
          "model_module": "@jupyter-widgets/controls",
          "model_module_version": "1.5.0",
          "model_name": "HTMLModel",
          "state": {
            "_dom_classes": [],
            "_model_module": "@jupyter-widgets/controls",
            "_model_module_version": "1.5.0",
            "_model_name": "HTMLModel",
            "_view_count": null,
            "_view_module": "@jupyter-widgets/controls",
            "_view_module_version": "1.5.0",
            "_view_name": "HTMLView",
            "description": "",
            "description_tooltip": null,
            "layout": "IPY_MODEL_2777786fe8db47f29a3d7906a356c61a",
            "placeholder": "​",
            "style": "IPY_MODEL_3c8cd234f8444aa5b9a833da10578678",
            "value": "Batches: 100%"
          }
        },
        "0b146217e316481e8fcba9c3c5801dac": {
          "model_module": "@jupyter-widgets/controls",
          "model_module_version": "1.5.0",
          "model_name": "HTMLModel",
          "state": {
            "_dom_classes": [],
            "_model_module": "@jupyter-widgets/controls",
            "_model_module_version": "1.5.0",
            "_model_name": "HTMLModel",
            "_view_count": null,
            "_view_module": "@jupyter-widgets/controls",
            "_view_module_version": "1.5.0",
            "_view_name": "HTMLView",
            "description": "",
            "description_tooltip": null,
            "layout": "IPY_MODEL_ad857d2b4dcf4fffadbfd53b98a0811d",
            "placeholder": "​",
            "style": "IPY_MODEL_6602c8118c204e95b6d1ee19bd2d82bb",
            "value": " 2/2 [00:02&lt;00:00,  1.96s/it]"
          }
        },
        "0c1d5ec9c45d4f14b93c527490dba2fe": {
          "model_module": "@jupyter-widgets/controls",
          "model_module_version": "1.5.0",
          "model_name": "HTMLModel",
          "state": {
            "_dom_classes": [],
            "_model_module": "@jupyter-widgets/controls",
            "_model_module_version": "1.5.0",
            "_model_name": "HTMLModel",
            "_view_count": null,
            "_view_module": "@jupyter-widgets/controls",
            "_view_module_version": "1.5.0",
            "_view_name": "HTMLView",
            "description": "",
            "description_tooltip": null,
            "layout": "IPY_MODEL_76cc219542fc47a6946be70a7a6d278e",
            "placeholder": "​",
            "style": "IPY_MODEL_0c9df7cb7ceb46fb8e55a8738e65a156",
            "value": "tokenizer.json: 100%"
          }
        },
        "0c9df7cb7ceb46fb8e55a8738e65a156": {
          "model_module": "@jupyter-widgets/controls",
          "model_module_version": "1.5.0",
          "model_name": "DescriptionStyleModel",
          "state": {
            "_model_module": "@jupyter-widgets/controls",
            "_model_module_version": "1.5.0",
            "_model_name": "DescriptionStyleModel",
            "_view_count": null,
            "_view_module": "@jupyter-widgets/base",
            "_view_module_version": "1.2.0",
            "_view_name": "StyleView",
            "description_width": ""
          }
        },
        "0e55737b4ebd4246860c47aeffeb2d75": {
          "model_module": "@jupyter-widgets/controls",
          "model_module_version": "1.5.0",
          "model_name": "FloatProgressModel",
          "state": {
            "_dom_classes": [],
            "_model_module": "@jupyter-widgets/controls",
            "_model_module_version": "1.5.0",
            "_model_name": "FloatProgressModel",
            "_view_count": null,
            "_view_module": "@jupyter-widgets/controls",
            "_view_module_version": "1.5.0",
            "_view_name": "ProgressView",
            "bar_style": "success",
            "description": "",
            "description_tooltip": null,
            "layout": "IPY_MODEL_4a19b2a092e6461d8fc3ea7c834751b9",
            "max": 967,
            "min": 0,
            "orientation": "horizontal",
            "style": "IPY_MODEL_fcb4e8b57bc641a198f23b156b577899",
            "value": 967
          }
        },
        "13f1b9a220484f259b4dde79a9670322": {
          "model_module": "@jupyter-widgets/base",
          "model_module_version": "1.2.0",
          "model_name": "LayoutModel",
          "state": {
            "_model_module": "@jupyter-widgets/base",
            "_model_module_version": "1.2.0",
            "_model_name": "LayoutModel",
            "_view_count": null,
            "_view_module": "@jupyter-widgets/base",
            "_view_module_version": "1.2.0",
            "_view_name": "LayoutView",
            "align_content": null,
            "align_items": null,
            "align_self": null,
            "border": null,
            "bottom": null,
            "display": null,
            "flex": null,
            "flex_flow": null,
            "grid_area": null,
            "grid_auto_columns": null,
            "grid_auto_flow": null,
            "grid_auto_rows": null,
            "grid_column": null,
            "grid_gap": null,
            "grid_row": null,
            "grid_template_areas": null,
            "grid_template_columns": null,
            "grid_template_rows": null,
            "height": null,
            "justify_content": null,
            "justify_items": null,
            "left": null,
            "margin": null,
            "max_height": null,
            "max_width": null,
            "min_height": null,
            "min_width": null,
            "object_fit": null,
            "object_position": null,
            "order": null,
            "overflow": null,
            "overflow_x": null,
            "overflow_y": null,
            "padding": null,
            "right": null,
            "top": null,
            "visibility": null,
            "width": null
          }
        },
        "1ad86ff0e0af414699a407dd45532d94": {
          "model_module": "@jupyter-widgets/controls",
          "model_module_version": "1.5.0",
          "model_name": "DescriptionStyleModel",
          "state": {
            "_model_module": "@jupyter-widgets/controls",
            "_model_module_version": "1.5.0",
            "_model_name": "DescriptionStyleModel",
            "_view_count": null,
            "_view_module": "@jupyter-widgets/base",
            "_view_module_version": "1.2.0",
            "_view_name": "StyleView",
            "description_width": ""
          }
        },
        "2350c5c868b143f0adbb592c9ba2811a": {
          "model_module": "@jupyter-widgets/controls",
          "model_module_version": "1.5.0",
          "model_name": "ProgressStyleModel",
          "state": {
            "_model_module": "@jupyter-widgets/controls",
            "_model_module_version": "1.5.0",
            "_model_name": "ProgressStyleModel",
            "_view_count": null,
            "_view_module": "@jupyter-widgets/base",
            "_view_module_version": "1.2.0",
            "_view_name": "StyleView",
            "bar_color": null,
            "description_width": ""
          }
        },
        "252f04be616c4e06ac2a82344f70c938": {
          "model_module": "@jupyter-widgets/controls",
          "model_module_version": "1.5.0",
          "model_name": "FloatProgressModel",
          "state": {
            "_dom_classes": [],
            "_model_module": "@jupyter-widgets/controls",
            "_model_module_version": "1.5.0",
            "_model_name": "FloatProgressModel",
            "_view_count": null,
            "_view_module": "@jupyter-widgets/controls",
            "_view_module_version": "1.5.0",
            "_view_name": "ProgressView",
            "bar_style": "success",
            "description": "",
            "description_tooltip": null,
            "layout": "IPY_MODEL_df4ee63bd9e24d8599011fbc2cdb33b3",
            "max": 7,
            "min": 0,
            "orientation": "horizontal",
            "style": "IPY_MODEL_2c0d282c8cb848f28755eee2f2c93f5f",
            "value": 7
          }
        },
        "2777786fe8db47f29a3d7906a356c61a": {
          "model_module": "@jupyter-widgets/base",
          "model_module_version": "1.2.0",
          "model_name": "LayoutModel",
          "state": {
            "_model_module": "@jupyter-widgets/base",
            "_model_module_version": "1.2.0",
            "_model_name": "LayoutModel",
            "_view_count": null,
            "_view_module": "@jupyter-widgets/base",
            "_view_module_version": "1.2.0",
            "_view_name": "LayoutView",
            "align_content": null,
            "align_items": null,
            "align_self": null,
            "border": null,
            "bottom": null,
            "display": null,
            "flex": null,
            "flex_flow": null,
            "grid_area": null,
            "grid_auto_columns": null,
            "grid_auto_flow": null,
            "grid_auto_rows": null,
            "grid_column": null,
            "grid_gap": null,
            "grid_row": null,
            "grid_template_areas": null,
            "grid_template_columns": null,
            "grid_template_rows": null,
            "height": null,
            "justify_content": null,
            "justify_items": null,
            "left": null,
            "margin": null,
            "max_height": null,
            "max_width": null,
            "min_height": null,
            "min_width": null,
            "object_fit": null,
            "object_position": null,
            "order": null,
            "overflow": null,
            "overflow_x": null,
            "overflow_y": null,
            "padding": null,
            "right": null,
            "top": null,
            "visibility": null,
            "width": null
          }
        },
        "2ace1409b55c43eb8b4275abf6f663f1": {
          "model_module": "@jupyter-widgets/base",
          "model_module_version": "1.2.0",
          "model_name": "LayoutModel",
          "state": {
            "_model_module": "@jupyter-widgets/base",
            "_model_module_version": "1.2.0",
            "_model_name": "LayoutModel",
            "_view_count": null,
            "_view_module": "@jupyter-widgets/base",
            "_view_module_version": "1.2.0",
            "_view_name": "LayoutView",
            "align_content": null,
            "align_items": null,
            "align_self": null,
            "border": null,
            "bottom": null,
            "display": null,
            "flex": null,
            "flex_flow": null,
            "grid_area": null,
            "grid_auto_columns": null,
            "grid_auto_flow": null,
            "grid_auto_rows": null,
            "grid_column": null,
            "grid_gap": null,
            "grid_row": null,
            "grid_template_areas": null,
            "grid_template_columns": null,
            "grid_template_rows": null,
            "height": null,
            "justify_content": null,
            "justify_items": null,
            "left": null,
            "margin": null,
            "max_height": null,
            "max_width": null,
            "min_height": null,
            "min_width": null,
            "object_fit": null,
            "object_position": null,
            "order": null,
            "overflow": null,
            "overflow_x": null,
            "overflow_y": null,
            "padding": null,
            "right": null,
            "top": null,
            "visibility": null,
            "width": null
          }
        },
        "2c0d282c8cb848f28755eee2f2c93f5f": {
          "model_module": "@jupyter-widgets/controls",
          "model_module_version": "1.5.0",
          "model_name": "ProgressStyleModel",
          "state": {
            "_model_module": "@jupyter-widgets/controls",
            "_model_module_version": "1.5.0",
            "_model_name": "ProgressStyleModel",
            "_view_count": null,
            "_view_module": "@jupyter-widgets/base",
            "_view_module_version": "1.2.0",
            "_view_name": "StyleView",
            "bar_color": null,
            "description_width": ""
          }
        },
        "36d657f4202c4a98afdb959529252cd1": {
          "model_module": "@jupyter-widgets/controls",
          "model_module_version": "1.5.0",
          "model_name": "HTMLModel",
          "state": {
            "_dom_classes": [],
            "_model_module": "@jupyter-widgets/controls",
            "_model_module_version": "1.5.0",
            "_model_name": "HTMLModel",
            "_view_count": null,
            "_view_module": "@jupyter-widgets/controls",
            "_view_module_version": "1.5.0",
            "_view_name": "HTMLView",
            "description": "",
            "description_tooltip": null,
            "layout": "IPY_MODEL_dda8efdfde72455089bb6e9088764297",
            "placeholder": "​",
            "style": "IPY_MODEL_979553b6f19a4628bcad2d178ddee6bf",
            "value": "tokenizer.model: 100%"
          }
        },
        "36dc98f699a74c38968ee0373cc11cad": {
          "model_module": "@jupyter-widgets/base",
          "model_module_version": "1.2.0",
          "model_name": "LayoutModel",
          "state": {
            "_model_module": "@jupyter-widgets/base",
            "_model_module_version": "1.2.0",
            "_model_name": "LayoutModel",
            "_view_count": null,
            "_view_module": "@jupyter-widgets/base",
            "_view_module_version": "1.2.0",
            "_view_name": "LayoutView",
            "align_content": null,
            "align_items": null,
            "align_self": null,
            "border": null,
            "bottom": null,
            "display": null,
            "flex": null,
            "flex_flow": null,
            "grid_area": null,
            "grid_auto_columns": null,
            "grid_auto_flow": null,
            "grid_auto_rows": null,
            "grid_column": null,
            "grid_gap": null,
            "grid_row": null,
            "grid_template_areas": null,
            "grid_template_columns": null,
            "grid_template_rows": null,
            "height": null,
            "justify_content": null,
            "justify_items": null,
            "left": null,
            "margin": null,
            "max_height": null,
            "max_width": null,
            "min_height": null,
            "min_width": null,
            "object_fit": null,
            "object_position": null,
            "order": null,
            "overflow": null,
            "overflow_x": null,
            "overflow_y": null,
            "padding": null,
            "right": null,
            "top": null,
            "visibility": null,
            "width": null
          }
        },
        "3c8cd234f8444aa5b9a833da10578678": {
          "model_module": "@jupyter-widgets/controls",
          "model_module_version": "1.5.0",
          "model_name": "DescriptionStyleModel",
          "state": {
            "_model_module": "@jupyter-widgets/controls",
            "_model_module_version": "1.5.0",
            "_model_name": "DescriptionStyleModel",
            "_view_count": null,
            "_view_module": "@jupyter-widgets/base",
            "_view_module_version": "1.2.0",
            "_view_name": "StyleView",
            "description_width": ""
          }
        },
        "47a4a297f7f54786b4583d624f05bea0": {
          "model_module": "@jupyter-widgets/base",
          "model_module_version": "1.2.0",
          "model_name": "LayoutModel",
          "state": {
            "_model_module": "@jupyter-widgets/base",
            "_model_module_version": "1.2.0",
            "_model_name": "LayoutModel",
            "_view_count": null,
            "_view_module": "@jupyter-widgets/base",
            "_view_module_version": "1.2.0",
            "_view_name": "LayoutView",
            "align_content": null,
            "align_items": null,
            "align_self": null,
            "border": null,
            "bottom": null,
            "display": null,
            "flex": null,
            "flex_flow": null,
            "grid_area": null,
            "grid_auto_columns": null,
            "grid_auto_flow": null,
            "grid_auto_rows": null,
            "grid_column": null,
            "grid_gap": null,
            "grid_row": null,
            "grid_template_areas": null,
            "grid_template_columns": null,
            "grid_template_rows": null,
            "height": null,
            "justify_content": null,
            "justify_items": null,
            "left": null,
            "margin": null,
            "max_height": null,
            "max_width": null,
            "min_height": null,
            "min_width": null,
            "object_fit": null,
            "object_position": null,
            "order": null,
            "overflow": null,
            "overflow_x": null,
            "overflow_y": null,
            "padding": null,
            "right": null,
            "top": null,
            "visibility": null,
            "width": null
          }
        },
        "49b7bf116d994460a24da929c22ac962": {
          "model_module": "@jupyter-widgets/controls",
          "model_module_version": "1.5.0",
          "model_name": "DescriptionStyleModel",
          "state": {
            "_model_module": "@jupyter-widgets/controls",
            "_model_module_version": "1.5.0",
            "_model_name": "DescriptionStyleModel",
            "_view_count": null,
            "_view_module": "@jupyter-widgets/base",
            "_view_module_version": "1.2.0",
            "_view_name": "StyleView",
            "description_width": ""
          }
        },
        "4a19b2a092e6461d8fc3ea7c834751b9": {
          "model_module": "@jupyter-widgets/base",
          "model_module_version": "1.2.0",
          "model_name": "LayoutModel",
          "state": {
            "_model_module": "@jupyter-widgets/base",
            "_model_module_version": "1.2.0",
            "_model_name": "LayoutModel",
            "_view_count": null,
            "_view_module": "@jupyter-widgets/base",
            "_view_module_version": "1.2.0",
            "_view_name": "LayoutView",
            "align_content": null,
            "align_items": null,
            "align_self": null,
            "border": null,
            "bottom": null,
            "display": null,
            "flex": null,
            "flex_flow": null,
            "grid_area": null,
            "grid_auto_columns": null,
            "grid_auto_flow": null,
            "grid_auto_rows": null,
            "grid_column": null,
            "grid_gap": null,
            "grid_row": null,
            "grid_template_areas": null,
            "grid_template_columns": null,
            "grid_template_rows": null,
            "height": null,
            "justify_content": null,
            "justify_items": null,
            "left": null,
            "margin": null,
            "max_height": null,
            "max_width": null,
            "min_height": null,
            "min_width": null,
            "object_fit": null,
            "object_position": null,
            "order": null,
            "overflow": null,
            "overflow_x": null,
            "overflow_y": null,
            "padding": null,
            "right": null,
            "top": null,
            "visibility": null,
            "width": null
          }
        },
        "544221c48925438fa4ebb44b92d71fe9": {
          "model_module": "@jupyter-widgets/controls",
          "model_module_version": "1.5.0",
          "model_name": "FloatProgressModel",
          "state": {
            "_dom_classes": [],
            "_model_module": "@jupyter-widgets/controls",
            "_model_module_version": "1.5.0",
            "_model_name": "FloatProgressModel",
            "_view_count": null,
            "_view_module": "@jupyter-widgets/controls",
            "_view_module_version": "1.5.0",
            "_view_name": "ProgressView",
            "bar_style": "success",
            "description": "",
            "description_tooltip": null,
            "layout": "IPY_MODEL_e54f68307c55424599fb5f2c95495d65",
            "max": 7,
            "min": 0,
            "orientation": "horizontal",
            "style": "IPY_MODEL_81619fcbebfd4b10a71ef7c250ca19a0",
            "value": 7
          }
        },
        "5600d6fe16df4b908f818df3c7aa29b8": {
          "model_module": "@jupyter-widgets/controls",
          "model_module_version": "1.5.0",
          "model_name": "HBoxModel",
          "state": {
            "_dom_classes": [],
            "_model_module": "@jupyter-widgets/controls",
            "_model_module_version": "1.5.0",
            "_model_name": "HBoxModel",
            "_view_count": null,
            "_view_module": "@jupyter-widgets/controls",
            "_view_module_version": "1.5.0",
            "_view_name": "HBoxView",
            "box_style": "",
            "children": [
              "IPY_MODEL_0c1d5ec9c45d4f14b93c527490dba2fe",
              "IPY_MODEL_762e4b8b21644595b04cdc080bf73423",
              "IPY_MODEL_e94d50a46d5142d4af53ecf5da3770fc"
            ],
            "layout": "IPY_MODEL_36dc98f699a74c38968ee0373cc11cad"
          }
        },
        "57bab3734feb47beb885e22b8e12bbe9": {
          "model_module": "@jupyter-widgets/controls",
          "model_module_version": "1.5.0",
          "model_name": "DescriptionStyleModel",
          "state": {
            "_model_module": "@jupyter-widgets/controls",
            "_model_module_version": "1.5.0",
            "_model_name": "DescriptionStyleModel",
            "_view_count": null,
            "_view_module": "@jupyter-widgets/base",
            "_view_module_version": "1.2.0",
            "_view_name": "StyleView",
            "description_width": ""
          }
        },
        "594f42765fbe4f08b852e2c5519f82f5": {
          "model_module": "@jupyter-widgets/base",
          "model_module_version": "1.2.0",
          "model_name": "LayoutModel",
          "state": {
            "_model_module": "@jupyter-widgets/base",
            "_model_module_version": "1.2.0",
            "_model_name": "LayoutModel",
            "_view_count": null,
            "_view_module": "@jupyter-widgets/base",
            "_view_module_version": "1.2.0",
            "_view_name": "LayoutView",
            "align_content": null,
            "align_items": null,
            "align_self": null,
            "border": null,
            "bottom": null,
            "display": null,
            "flex": null,
            "flex_flow": null,
            "grid_area": null,
            "grid_auto_columns": null,
            "grid_auto_flow": null,
            "grid_auto_rows": null,
            "grid_column": null,
            "grid_gap": null,
            "grid_row": null,
            "grid_template_areas": null,
            "grid_template_columns": null,
            "grid_template_rows": null,
            "height": null,
            "justify_content": null,
            "justify_items": null,
            "left": null,
            "margin": null,
            "max_height": null,
            "max_width": null,
            "min_height": null,
            "min_width": null,
            "object_fit": null,
            "object_position": null,
            "order": null,
            "overflow": null,
            "overflow_x": null,
            "overflow_y": null,
            "padding": null,
            "right": null,
            "top": null,
            "visibility": null,
            "width": null
          }
        },
        "59b6b12877bf4a4fbeb80d530ba6fe2f": {
          "model_module": "@jupyter-widgets/controls",
          "model_module_version": "1.5.0",
          "model_name": "HTMLModel",
          "state": {
            "_dom_classes": [],
            "_model_module": "@jupyter-widgets/controls",
            "_model_module_version": "1.5.0",
            "_model_name": "HTMLModel",
            "_view_count": null,
            "_view_module": "@jupyter-widgets/controls",
            "_view_module_version": "1.5.0",
            "_view_name": "HTMLView",
            "description": "",
            "description_tooltip": null,
            "layout": "IPY_MODEL_9815bed8da6046b9a64f416d1f162309",
            "placeholder": "​",
            "style": "IPY_MODEL_0909dbd76b5443beb79e1f89585a62b7",
            "value": " 7/7 [00:43&lt;00:00,  5.18s/it]"
          }
        },
        "5e3868e581e44b36b43de7ea01aed65f": {
          "model_module": "@jupyter-widgets/base",
          "model_module_version": "1.2.0",
          "model_name": "LayoutModel",
          "state": {
            "_model_module": "@jupyter-widgets/base",
            "_model_module_version": "1.2.0",
            "_model_name": "LayoutModel",
            "_view_count": null,
            "_view_module": "@jupyter-widgets/base",
            "_view_module_version": "1.2.0",
            "_view_name": "LayoutView",
            "align_content": null,
            "align_items": null,
            "align_self": null,
            "border": null,
            "bottom": null,
            "display": null,
            "flex": null,
            "flex_flow": null,
            "grid_area": null,
            "grid_auto_columns": null,
            "grid_auto_flow": null,
            "grid_auto_rows": null,
            "grid_column": null,
            "grid_gap": null,
            "grid_row": null,
            "grid_template_areas": null,
            "grid_template_columns": null,
            "grid_template_rows": null,
            "height": null,
            "justify_content": null,
            "justify_items": null,
            "left": null,
            "margin": null,
            "max_height": null,
            "max_width": null,
            "min_height": null,
            "min_width": null,
            "object_fit": null,
            "object_position": null,
            "order": null,
            "overflow": null,
            "overflow_x": null,
            "overflow_y": null,
            "padding": null,
            "right": null,
            "top": null,
            "visibility": null,
            "width": null
          }
        },
        "608f10b5966d4eb999af86cb4c38924c": {
          "model_module": "@jupyter-widgets/controls",
          "model_module_version": "1.5.0",
          "model_name": "HTMLModel",
          "state": {
            "_dom_classes": [],
            "_model_module": "@jupyter-widgets/controls",
            "_model_module_version": "1.5.0",
            "_model_name": "HTMLModel",
            "_view_count": null,
            "_view_module": "@jupyter-widgets/controls",
            "_view_module_version": "1.5.0",
            "_view_name": "HTMLView",
            "description": "",
            "description_tooltip": null,
            "layout": "IPY_MODEL_83db5ff8bbe04a1e89dd70764b2483ab",
            "placeholder": "​",
            "style": "IPY_MODEL_afae7e35dea94f438fbb5aad0eeca01c",
            "value": " 72.0/72.0 [00:00&lt;00:00, 3.72kB/s]"
          }
        },
        "6271e3cd80a1478bba9eedda4cf23385": {
          "model_module": "@jupyter-widgets/base",
          "model_module_version": "1.2.0",
          "model_name": "LayoutModel",
          "state": {
            "_model_module": "@jupyter-widgets/base",
            "_model_module_version": "1.2.0",
            "_model_name": "LayoutModel",
            "_view_count": null,
            "_view_module": "@jupyter-widgets/base",
            "_view_module_version": "1.2.0",
            "_view_name": "LayoutView",
            "align_content": null,
            "align_items": null,
            "align_self": null,
            "border": null,
            "bottom": null,
            "display": null,
            "flex": null,
            "flex_flow": null,
            "grid_area": null,
            "grid_auto_columns": null,
            "grid_auto_flow": null,
            "grid_auto_rows": null,
            "grid_column": null,
            "grid_gap": null,
            "grid_row": null,
            "grid_template_areas": null,
            "grid_template_columns": null,
            "grid_template_rows": null,
            "height": null,
            "justify_content": null,
            "justify_items": null,
            "left": null,
            "margin": null,
            "max_height": null,
            "max_width": null,
            "min_height": null,
            "min_width": null,
            "object_fit": null,
            "object_position": null,
            "order": null,
            "overflow": null,
            "overflow_x": null,
            "overflow_y": null,
            "padding": null,
            "right": null,
            "top": null,
            "visibility": null,
            "width": null
          }
        },
        "64da336c9ddd43d981cb403031f0467b": {
          "model_module": "@jupyter-widgets/base",
          "model_module_version": "1.2.0",
          "model_name": "LayoutModel",
          "state": {
            "_model_module": "@jupyter-widgets/base",
            "_model_module_version": "1.2.0",
            "_model_name": "LayoutModel",
            "_view_count": null,
            "_view_module": "@jupyter-widgets/base",
            "_view_module_version": "1.2.0",
            "_view_name": "LayoutView",
            "align_content": null,
            "align_items": null,
            "align_self": null,
            "border": null,
            "bottom": null,
            "display": null,
            "flex": null,
            "flex_flow": null,
            "grid_area": null,
            "grid_auto_columns": null,
            "grid_auto_flow": null,
            "grid_auto_rows": null,
            "grid_column": null,
            "grid_gap": null,
            "grid_row": null,
            "grid_template_areas": null,
            "grid_template_columns": null,
            "grid_template_rows": null,
            "height": null,
            "justify_content": null,
            "justify_items": null,
            "left": null,
            "margin": null,
            "max_height": null,
            "max_width": null,
            "min_height": null,
            "min_width": null,
            "object_fit": null,
            "object_position": null,
            "order": null,
            "overflow": null,
            "overflow_x": null,
            "overflow_y": null,
            "padding": null,
            "right": null,
            "top": null,
            "visibility": null,
            "width": null
          }
        },
        "6602c8118c204e95b6d1ee19bd2d82bb": {
          "model_module": "@jupyter-widgets/controls",
          "model_module_version": "1.5.0",
          "model_name": "DescriptionStyleModel",
          "state": {
            "_model_module": "@jupyter-widgets/controls",
            "_model_module_version": "1.5.0",
            "_model_name": "DescriptionStyleModel",
            "_view_count": null,
            "_view_module": "@jupyter-widgets/base",
            "_view_module_version": "1.2.0",
            "_view_name": "StyleView",
            "description_width": ""
          }
        },
        "67979f69333c43e88cf30ade1f444bf0": {
          "model_module": "@jupyter-widgets/controls",
          "model_module_version": "1.5.0",
          "model_name": "ProgressStyleModel",
          "state": {
            "_model_module": "@jupyter-widgets/controls",
            "_model_module_version": "1.5.0",
            "_model_name": "ProgressStyleModel",
            "_view_count": null,
            "_view_module": "@jupyter-widgets/base",
            "_view_module_version": "1.2.0",
            "_view_name": "StyleView",
            "bar_color": null,
            "description_width": ""
          }
        },
        "69cae06bafac42d3b0e0236146d81c46": {
          "model_module": "@jupyter-widgets/base",
          "model_module_version": "1.2.0",
          "model_name": "LayoutModel",
          "state": {
            "_model_module": "@jupyter-widgets/base",
            "_model_module_version": "1.2.0",
            "_model_name": "LayoutModel",
            "_view_count": null,
            "_view_module": "@jupyter-widgets/base",
            "_view_module_version": "1.2.0",
            "_view_name": "LayoutView",
            "align_content": null,
            "align_items": null,
            "align_self": null,
            "border": null,
            "bottom": null,
            "display": null,
            "flex": null,
            "flex_flow": null,
            "grid_area": null,
            "grid_auto_columns": null,
            "grid_auto_flow": null,
            "grid_auto_rows": null,
            "grid_column": null,
            "grid_gap": null,
            "grid_row": null,
            "grid_template_areas": null,
            "grid_template_columns": null,
            "grid_template_rows": null,
            "height": null,
            "justify_content": null,
            "justify_items": null,
            "left": null,
            "margin": null,
            "max_height": null,
            "max_width": null,
            "min_height": null,
            "min_width": null,
            "object_fit": null,
            "object_position": null,
            "order": null,
            "overflow": null,
            "overflow_x": null,
            "overflow_y": null,
            "padding": null,
            "right": null,
            "top": null,
            "visibility": null,
            "width": null
          }
        },
        "71e7e309c17541bd9c7b6c9337b1ecf0": {
          "model_module": "@jupyter-widgets/controls",
          "model_module_version": "1.5.0",
          "model_name": "HTMLModel",
          "state": {
            "_dom_classes": [],
            "_model_module": "@jupyter-widgets/controls",
            "_model_module_version": "1.5.0",
            "_model_name": "HTMLModel",
            "_view_count": null,
            "_view_module": "@jupyter-widgets/controls",
            "_view_module_version": "1.5.0",
            "_view_name": "HTMLView",
            "description": "",
            "description_tooltip": null,
            "layout": "IPY_MODEL_c7da9633189f44e1a74f440191ff511d",
            "placeholder": "​",
            "style": "IPY_MODEL_49b7bf116d994460a24da929c22ac962",
            "value": "tokenizer_config.json: 100%"
          }
        },
        "762e4b8b21644595b04cdc080bf73423": {
          "model_module": "@jupyter-widgets/controls",
          "model_module_version": "1.5.0",
          "model_name": "FloatProgressModel",
          "state": {
            "_dom_classes": [],
            "_model_module": "@jupyter-widgets/controls",
            "_model_module_version": "1.5.0",
            "_model_name": "FloatProgressModel",
            "_view_count": null,
            "_view_module": "@jupyter-widgets/controls",
            "_view_module_version": "1.5.0",
            "_view_name": "ProgressView",
            "bar_style": "success",
            "description": "",
            "description_tooltip": null,
            "layout": "IPY_MODEL_6271e3cd80a1478bba9eedda4cf23385",
            "max": 1795303,
            "min": 0,
            "orientation": "horizontal",
            "style": "IPY_MODEL_efd536cd36624457b4ff7816b4622229",
            "value": 1795303
          }
        },
        "76cc219542fc47a6946be70a7a6d278e": {
          "model_module": "@jupyter-widgets/base",
          "model_module_version": "1.2.0",
          "model_name": "LayoutModel",
          "state": {
            "_model_module": "@jupyter-widgets/base",
            "_model_module_version": "1.2.0",
            "_model_name": "LayoutModel",
            "_view_count": null,
            "_view_module": "@jupyter-widgets/base",
            "_view_module_version": "1.2.0",
            "_view_name": "LayoutView",
            "align_content": null,
            "align_items": null,
            "align_self": null,
            "border": null,
            "bottom": null,
            "display": null,
            "flex": null,
            "flex_flow": null,
            "grid_area": null,
            "grid_auto_columns": null,
            "grid_auto_flow": null,
            "grid_auto_rows": null,
            "grid_column": null,
            "grid_gap": null,
            "grid_row": null,
            "grid_template_areas": null,
            "grid_template_columns": null,
            "grid_template_rows": null,
            "height": null,
            "justify_content": null,
            "justify_items": null,
            "left": null,
            "margin": null,
            "max_height": null,
            "max_width": null,
            "min_height": null,
            "min_width": null,
            "object_fit": null,
            "object_position": null,
            "order": null,
            "overflow": null,
            "overflow_x": null,
            "overflow_y": null,
            "padding": null,
            "right": null,
            "top": null,
            "visibility": null,
            "width": null
          }
        },
        "7930284422964193a293e6e6514231fd": {
          "model_module": "@jupyter-widgets/base",
          "model_module_version": "1.2.0",
          "model_name": "LayoutModel",
          "state": {
            "_model_module": "@jupyter-widgets/base",
            "_model_module_version": "1.2.0",
            "_model_name": "LayoutModel",
            "_view_count": null,
            "_view_module": "@jupyter-widgets/base",
            "_view_module_version": "1.2.0",
            "_view_name": "LayoutView",
            "align_content": null,
            "align_items": null,
            "align_self": null,
            "border": null,
            "bottom": null,
            "display": null,
            "flex": null,
            "flex_flow": null,
            "grid_area": null,
            "grid_auto_columns": null,
            "grid_auto_flow": null,
            "grid_auto_rows": null,
            "grid_column": null,
            "grid_gap": null,
            "grid_row": null,
            "grid_template_areas": null,
            "grid_template_columns": null,
            "grid_template_rows": null,
            "height": null,
            "justify_content": null,
            "justify_items": null,
            "left": null,
            "margin": null,
            "max_height": null,
            "max_width": null,
            "min_height": null,
            "min_width": null,
            "object_fit": null,
            "object_position": null,
            "order": null,
            "overflow": null,
            "overflow_x": null,
            "overflow_y": null,
            "padding": null,
            "right": null,
            "top": null,
            "visibility": null,
            "width": null
          }
        },
        "7bfc1d7bcc864055add1faae0736f204": {
          "model_module": "@jupyter-widgets/controls",
          "model_module_version": "1.5.0",
          "model_name": "HBoxModel",
          "state": {
            "_dom_classes": [],
            "_model_module": "@jupyter-widgets/controls",
            "_model_module_version": "1.5.0",
            "_model_name": "HBoxModel",
            "_view_count": null,
            "_view_module": "@jupyter-widgets/controls",
            "_view_module_version": "1.5.0",
            "_view_name": "HBoxView",
            "box_style": "",
            "children": [
              "IPY_MODEL_823bf2d85c5b4259b248352975561bf7",
              "IPY_MODEL_252f04be616c4e06ac2a82344f70c938",
              "IPY_MODEL_59b6b12877bf4a4fbeb80d530ba6fe2f"
            ],
            "layout": "IPY_MODEL_7930284422964193a293e6e6514231fd"
          }
        },
        "810926b9c9f642639ca6ac21d2d279cc": {
          "model_module": "@jupyter-widgets/controls",
          "model_module_version": "1.5.0",
          "model_name": "DescriptionStyleModel",
          "state": {
            "_model_module": "@jupyter-widgets/controls",
            "_model_module_version": "1.5.0",
            "_model_name": "DescriptionStyleModel",
            "_view_count": null,
            "_view_module": "@jupyter-widgets/base",
            "_view_module_version": "1.2.0",
            "_view_name": "StyleView",
            "description_width": ""
          }
        },
        "81619fcbebfd4b10a71ef7c250ca19a0": {
          "model_module": "@jupyter-widgets/controls",
          "model_module_version": "1.5.0",
          "model_name": "ProgressStyleModel",
          "state": {
            "_model_module": "@jupyter-widgets/controls",
            "_model_module_version": "1.5.0",
            "_model_name": "ProgressStyleModel",
            "_view_count": null,
            "_view_module": "@jupyter-widgets/base",
            "_view_module_version": "1.2.0",
            "_view_name": "StyleView",
            "bar_color": null,
            "description_width": ""
          }
        },
        "823bf2d85c5b4259b248352975561bf7": {
          "model_module": "@jupyter-widgets/controls",
          "model_module_version": "1.5.0",
          "model_name": "HTMLModel",
          "state": {
            "_dom_classes": [],
            "_model_module": "@jupyter-widgets/controls",
            "_model_module_version": "1.5.0",
            "_model_name": "HTMLModel",
            "_view_count": null,
            "_view_module": "@jupyter-widgets/controls",
            "_view_module_version": "1.5.0",
            "_view_name": "HTMLView",
            "description": "",
            "description_tooltip": null,
            "layout": "IPY_MODEL_594f42765fbe4f08b852e2c5519f82f5",
            "placeholder": "​",
            "style": "IPY_MODEL_1ad86ff0e0af414699a407dd45532d94",
            "value": "Batches: 100%"
          }
        },
        "83a71281d77443bf9c56c61ac4d40407": {
          "model_module": "@jupyter-widgets/controls",
          "model_module_version": "1.5.0",
          "model_name": "ProgressStyleModel",
          "state": {
            "_model_module": "@jupyter-widgets/controls",
            "_model_module_version": "1.5.0",
            "_model_name": "ProgressStyleModel",
            "_view_count": null,
            "_view_module": "@jupyter-widgets/base",
            "_view_module_version": "1.2.0",
            "_view_name": "StyleView",
            "bar_color": null,
            "description_width": ""
          }
        },
        "83db5ff8bbe04a1e89dd70764b2483ab": {
          "model_module": "@jupyter-widgets/base",
          "model_module_version": "1.2.0",
          "model_name": "LayoutModel",
          "state": {
            "_model_module": "@jupyter-widgets/base",
            "_model_module_version": "1.2.0",
            "_model_name": "LayoutModel",
            "_view_count": null,
            "_view_module": "@jupyter-widgets/base",
            "_view_module_version": "1.2.0",
            "_view_name": "LayoutView",
            "align_content": null,
            "align_items": null,
            "align_self": null,
            "border": null,
            "bottom": null,
            "display": null,
            "flex": null,
            "flex_flow": null,
            "grid_area": null,
            "grid_auto_columns": null,
            "grid_auto_flow": null,
            "grid_auto_rows": null,
            "grid_column": null,
            "grid_gap": null,
            "grid_row": null,
            "grid_template_areas": null,
            "grid_template_columns": null,
            "grid_template_rows": null,
            "height": null,
            "justify_content": null,
            "justify_items": null,
            "left": null,
            "margin": null,
            "max_height": null,
            "max_width": null,
            "min_height": null,
            "min_width": null,
            "object_fit": null,
            "object_position": null,
            "order": null,
            "overflow": null,
            "overflow_x": null,
            "overflow_y": null,
            "padding": null,
            "right": null,
            "top": null,
            "visibility": null,
            "width": null
          }
        },
        "851540846d984a3e8b48dbc9c0443cef": {
          "model_module": "@jupyter-widgets/base",
          "model_module_version": "1.2.0",
          "model_name": "LayoutModel",
          "state": {
            "_model_module": "@jupyter-widgets/base",
            "_model_module_version": "1.2.0",
            "_model_name": "LayoutModel",
            "_view_count": null,
            "_view_module": "@jupyter-widgets/base",
            "_view_module_version": "1.2.0",
            "_view_name": "LayoutView",
            "align_content": null,
            "align_items": null,
            "align_self": null,
            "border": null,
            "bottom": null,
            "display": null,
            "flex": null,
            "flex_flow": null,
            "grid_area": null,
            "grid_auto_columns": null,
            "grid_auto_flow": null,
            "grid_auto_rows": null,
            "grid_column": null,
            "grid_gap": null,
            "grid_row": null,
            "grid_template_areas": null,
            "grid_template_columns": null,
            "grid_template_rows": null,
            "height": null,
            "justify_content": null,
            "justify_items": null,
            "left": null,
            "margin": null,
            "max_height": null,
            "max_width": null,
            "min_height": null,
            "min_width": null,
            "object_fit": null,
            "object_position": null,
            "order": null,
            "overflow": null,
            "overflow_x": null,
            "overflow_y": null,
            "padding": null,
            "right": null,
            "top": null,
            "visibility": null,
            "width": null
          }
        },
        "89ad145ea9fe408194f2e8c82a333fa4": {
          "model_module": "@jupyter-widgets/controls",
          "model_module_version": "1.5.0",
          "model_name": "HBoxModel",
          "state": {
            "_dom_classes": [],
            "_model_module": "@jupyter-widgets/controls",
            "_model_module_version": "1.5.0",
            "_model_name": "HBoxModel",
            "_view_count": null,
            "_view_module": "@jupyter-widgets/controls",
            "_view_module_version": "1.5.0",
            "_view_name": "HBoxView",
            "box_style": "",
            "children": [
              "IPY_MODEL_8add761672df4a31b727aa7870dc06f0",
              "IPY_MODEL_dc935cc810c7499d9d2b25aa04808741",
              "IPY_MODEL_608f10b5966d4eb999af86cb4c38924c"
            ],
            "layout": "IPY_MODEL_c3ce73e2e3a74c42b55f9dc747657b22"
          }
        },
        "8add761672df4a31b727aa7870dc06f0": {
          "model_module": "@jupyter-widgets/controls",
          "model_module_version": "1.5.0",
          "model_name": "HTMLModel",
          "state": {
            "_dom_classes": [],
            "_model_module": "@jupyter-widgets/controls",
            "_model_module_version": "1.5.0",
            "_model_name": "HTMLModel",
            "_view_count": null,
            "_view_module": "@jupyter-widgets/controls",
            "_view_module_version": "1.5.0",
            "_view_name": "HTMLView",
            "description": "",
            "description_tooltip": null,
            "layout": "IPY_MODEL_13f1b9a220484f259b4dde79a9670322",
            "placeholder": "​",
            "style": "IPY_MODEL_57bab3734feb47beb885e22b8e12bbe9",
            "value": "special_tokens_map.json: 100%"
          }
        },
        "8b38a7332a1a4d40893d3bdc6aa65871": {
          "model_module": "@jupyter-widgets/controls",
          "model_module_version": "1.5.0",
          "model_name": "FloatProgressModel",
          "state": {
            "_dom_classes": [],
            "_model_module": "@jupyter-widgets/controls",
            "_model_module_version": "1.5.0",
            "_model_name": "FloatProgressModel",
            "_view_count": null,
            "_view_module": "@jupyter-widgets/controls",
            "_view_module_version": "1.5.0",
            "_view_name": "ProgressView",
            "bar_style": "success",
            "description": "",
            "description_tooltip": null,
            "layout": "IPY_MODEL_e33ac69c91e64a5f87fb9e2ab0c93747",
            "max": 2,
            "min": 0,
            "orientation": "horizontal",
            "style": "IPY_MODEL_2350c5c868b143f0adbb592c9ba2811a",
            "value": 2
          }
        },
        "92da556179374b9c9b88c7479932bc4e": {
          "model_module": "@jupyter-widgets/controls",
          "model_module_version": "1.5.0",
          "model_name": "HBoxModel",
          "state": {
            "_dom_classes": [],
            "_model_module": "@jupyter-widgets/controls",
            "_model_module_version": "1.5.0",
            "_model_name": "HBoxModel",
            "_view_count": null,
            "_view_module": "@jupyter-widgets/controls",
            "_view_module_version": "1.5.0",
            "_view_name": "HBoxView",
            "box_style": "",
            "children": [
              "IPY_MODEL_71e7e309c17541bd9c7b6c9337b1ecf0",
              "IPY_MODEL_0e55737b4ebd4246860c47aeffeb2d75",
              "IPY_MODEL_d1a37a3453b04b4a82c38933471954db"
            ],
            "layout": "IPY_MODEL_69cae06bafac42d3b0e0236146d81c46"
          }
        },
        "974dcfc4b3034bfe81a5e298e72acda8": {
          "model_module": "@jupyter-widgets/base",
          "model_module_version": "1.2.0",
          "model_name": "LayoutModel",
          "state": {
            "_model_module": "@jupyter-widgets/base",
            "_model_module_version": "1.2.0",
            "_model_name": "LayoutModel",
            "_view_count": null,
            "_view_module": "@jupyter-widgets/base",
            "_view_module_version": "1.2.0",
            "_view_name": "LayoutView",
            "align_content": null,
            "align_items": null,
            "align_self": null,
            "border": null,
            "bottom": null,
            "display": null,
            "flex": null,
            "flex_flow": null,
            "grid_area": null,
            "grid_auto_columns": null,
            "grid_auto_flow": null,
            "grid_auto_rows": null,
            "grid_column": null,
            "grid_gap": null,
            "grid_row": null,
            "grid_template_areas": null,
            "grid_template_columns": null,
            "grid_template_rows": null,
            "height": null,
            "justify_content": null,
            "justify_items": null,
            "left": null,
            "margin": null,
            "max_height": null,
            "max_width": null,
            "min_height": null,
            "min_width": null,
            "object_fit": null,
            "object_position": null,
            "order": null,
            "overflow": null,
            "overflow_x": null,
            "overflow_y": null,
            "padding": null,
            "right": null,
            "top": null,
            "visibility": null,
            "width": null
          }
        },
        "979553b6f19a4628bcad2d178ddee6bf": {
          "model_module": "@jupyter-widgets/controls",
          "model_module_version": "1.5.0",
          "model_name": "DescriptionStyleModel",
          "state": {
            "_model_module": "@jupyter-widgets/controls",
            "_model_module_version": "1.5.0",
            "_model_name": "DescriptionStyleModel",
            "_view_count": null,
            "_view_module": "@jupyter-widgets/base",
            "_view_module_version": "1.2.0",
            "_view_name": "StyleView",
            "description_width": ""
          }
        },
        "9815bed8da6046b9a64f416d1f162309": {
          "model_module": "@jupyter-widgets/base",
          "model_module_version": "1.2.0",
          "model_name": "LayoutModel",
          "state": {
            "_model_module": "@jupyter-widgets/base",
            "_model_module_version": "1.2.0",
            "_model_name": "LayoutModel",
            "_view_count": null,
            "_view_module": "@jupyter-widgets/base",
            "_view_module_version": "1.2.0",
            "_view_name": "LayoutView",
            "align_content": null,
            "align_items": null,
            "align_self": null,
            "border": null,
            "bottom": null,
            "display": null,
            "flex": null,
            "flex_flow": null,
            "grid_area": null,
            "grid_auto_columns": null,
            "grid_auto_flow": null,
            "grid_auto_rows": null,
            "grid_column": null,
            "grid_gap": null,
            "grid_row": null,
            "grid_template_areas": null,
            "grid_template_columns": null,
            "grid_template_rows": null,
            "height": null,
            "justify_content": null,
            "justify_items": null,
            "left": null,
            "margin": null,
            "max_height": null,
            "max_width": null,
            "min_height": null,
            "min_width": null,
            "object_fit": null,
            "object_position": null,
            "order": null,
            "overflow": null,
            "overflow_x": null,
            "overflow_y": null,
            "padding": null,
            "right": null,
            "top": null,
            "visibility": null,
            "width": null
          }
        },
        "9bf022d7091e4e3392c910e5c3f640f9": {
          "model_module": "@jupyter-widgets/controls",
          "model_module_version": "1.5.0",
          "model_name": "FloatProgressModel",
          "state": {
            "_dom_classes": [],
            "_model_module": "@jupyter-widgets/controls",
            "_model_module_version": "1.5.0",
            "_model_name": "FloatProgressModel",
            "_view_count": null,
            "_view_module": "@jupyter-widgets/controls",
            "_view_module_version": "1.5.0",
            "_view_name": "ProgressView",
            "bar_style": "success",
            "description": "",
            "description_tooltip": null,
            "layout": "IPY_MODEL_d95d5e5af11f476993094c7d83dfb70d",
            "max": 493443,
            "min": 0,
            "orientation": "horizontal",
            "style": "IPY_MODEL_67979f69333c43e88cf30ade1f444bf0",
            "value": 493443
          }
        },
        "a14a0362a0e346a5849a18d174c2e234": {
          "model_module": "@jupyter-widgets/controls",
          "model_module_version": "1.5.0",
          "model_name": "DescriptionStyleModel",
          "state": {
            "_model_module": "@jupyter-widgets/controls",
            "_model_module_version": "1.5.0",
            "_model_name": "DescriptionStyleModel",
            "_view_count": null,
            "_view_module": "@jupyter-widgets/base",
            "_view_module_version": "1.2.0",
            "_view_name": "StyleView",
            "description_width": ""
          }
        },
        "a2d1828ab73642a2932a994f2b7f7886": {
          "model_module": "@jupyter-widgets/controls",
          "model_module_version": "1.5.0",
          "model_name": "HBoxModel",
          "state": {
            "_dom_classes": [],
            "_model_module": "@jupyter-widgets/controls",
            "_model_module_version": "1.5.0",
            "_model_name": "HBoxModel",
            "_view_count": null,
            "_view_module": "@jupyter-widgets/controls",
            "_view_module_version": "1.5.0",
            "_view_name": "HBoxView",
            "box_style": "",
            "children": [
              "IPY_MODEL_eed31c56e7d9461e9551de1f7df953b0",
              "IPY_MODEL_544221c48925438fa4ebb44b92d71fe9",
              "IPY_MODEL_da565ad9b7014c30951c11f2709ec0c4"
            ],
            "layout": "IPY_MODEL_2ace1409b55c43eb8b4275abf6f663f1"
          }
        },
        "a8b8b0f313df4b72a0b0877e05dcbb80": {
          "model_module": "@jupyter-widgets/base",
          "model_module_version": "1.2.0",
          "model_name": "LayoutModel",
          "state": {
            "_model_module": "@jupyter-widgets/base",
            "_model_module_version": "1.2.0",
            "_model_name": "LayoutModel",
            "_view_count": null,
            "_view_module": "@jupyter-widgets/base",
            "_view_module_version": "1.2.0",
            "_view_name": "LayoutView",
            "align_content": null,
            "align_items": null,
            "align_self": null,
            "border": null,
            "bottom": null,
            "display": null,
            "flex": null,
            "flex_flow": null,
            "grid_area": null,
            "grid_auto_columns": null,
            "grid_auto_flow": null,
            "grid_auto_rows": null,
            "grid_column": null,
            "grid_gap": null,
            "grid_row": null,
            "grid_template_areas": null,
            "grid_template_columns": null,
            "grid_template_rows": null,
            "height": null,
            "justify_content": null,
            "justify_items": null,
            "left": null,
            "margin": null,
            "max_height": null,
            "max_width": null,
            "min_height": null,
            "min_width": null,
            "object_fit": null,
            "object_position": null,
            "order": null,
            "overflow": null,
            "overflow_x": null,
            "overflow_y": null,
            "padding": null,
            "right": null,
            "top": null,
            "visibility": null,
            "width": null
          }
        },
        "ad857d2b4dcf4fffadbfd53b98a0811d": {
          "model_module": "@jupyter-widgets/base",
          "model_module_version": "1.2.0",
          "model_name": "LayoutModel",
          "state": {
            "_model_module": "@jupyter-widgets/base",
            "_model_module_version": "1.2.0",
            "_model_name": "LayoutModel",
            "_view_count": null,
            "_view_module": "@jupyter-widgets/base",
            "_view_module_version": "1.2.0",
            "_view_name": "LayoutView",
            "align_content": null,
            "align_items": null,
            "align_self": null,
            "border": null,
            "bottom": null,
            "display": null,
            "flex": null,
            "flex_flow": null,
            "grid_area": null,
            "grid_auto_columns": null,
            "grid_auto_flow": null,
            "grid_auto_rows": null,
            "grid_column": null,
            "grid_gap": null,
            "grid_row": null,
            "grid_template_areas": null,
            "grid_template_columns": null,
            "grid_template_rows": null,
            "height": null,
            "justify_content": null,
            "justify_items": null,
            "left": null,
            "margin": null,
            "max_height": null,
            "max_width": null,
            "min_height": null,
            "min_width": null,
            "object_fit": null,
            "object_position": null,
            "order": null,
            "overflow": null,
            "overflow_x": null,
            "overflow_y": null,
            "padding": null,
            "right": null,
            "top": null,
            "visibility": null,
            "width": null
          }
        },
        "afae7e35dea94f438fbb5aad0eeca01c": {
          "model_module": "@jupyter-widgets/controls",
          "model_module_version": "1.5.0",
          "model_name": "DescriptionStyleModel",
          "state": {
            "_model_module": "@jupyter-widgets/controls",
            "_model_module_version": "1.5.0",
            "_model_name": "DescriptionStyleModel",
            "_view_count": null,
            "_view_module": "@jupyter-widgets/base",
            "_view_module_version": "1.2.0",
            "_view_name": "StyleView",
            "description_width": ""
          }
        },
        "bc8ba30790fb45c189429c67cb714975": {
          "model_module": "@jupyter-widgets/base",
          "model_module_version": "1.2.0",
          "model_name": "LayoutModel",
          "state": {
            "_model_module": "@jupyter-widgets/base",
            "_model_module_version": "1.2.0",
            "_model_name": "LayoutModel",
            "_view_count": null,
            "_view_module": "@jupyter-widgets/base",
            "_view_module_version": "1.2.0",
            "_view_name": "LayoutView",
            "align_content": null,
            "align_items": null,
            "align_self": null,
            "border": null,
            "bottom": null,
            "display": null,
            "flex": null,
            "flex_flow": null,
            "grid_area": null,
            "grid_auto_columns": null,
            "grid_auto_flow": null,
            "grid_auto_rows": null,
            "grid_column": null,
            "grid_gap": null,
            "grid_row": null,
            "grid_template_areas": null,
            "grid_template_columns": null,
            "grid_template_rows": null,
            "height": null,
            "justify_content": null,
            "justify_items": null,
            "left": null,
            "margin": null,
            "max_height": null,
            "max_width": null,
            "min_height": null,
            "min_width": null,
            "object_fit": null,
            "object_position": null,
            "order": null,
            "overflow": null,
            "overflow_x": null,
            "overflow_y": null,
            "padding": null,
            "right": null,
            "top": null,
            "visibility": null,
            "width": null
          }
        },
        "c3ce73e2e3a74c42b55f9dc747657b22": {
          "model_module": "@jupyter-widgets/base",
          "model_module_version": "1.2.0",
          "model_name": "LayoutModel",
          "state": {
            "_model_module": "@jupyter-widgets/base",
            "_model_module_version": "1.2.0",
            "_model_name": "LayoutModel",
            "_view_count": null,
            "_view_module": "@jupyter-widgets/base",
            "_view_module_version": "1.2.0",
            "_view_name": "LayoutView",
            "align_content": null,
            "align_items": null,
            "align_self": null,
            "border": null,
            "bottom": null,
            "display": null,
            "flex": null,
            "flex_flow": null,
            "grid_area": null,
            "grid_auto_columns": null,
            "grid_auto_flow": null,
            "grid_auto_rows": null,
            "grid_column": null,
            "grid_gap": null,
            "grid_row": null,
            "grid_template_areas": null,
            "grid_template_columns": null,
            "grid_template_rows": null,
            "height": null,
            "justify_content": null,
            "justify_items": null,
            "left": null,
            "margin": null,
            "max_height": null,
            "max_width": null,
            "min_height": null,
            "min_width": null,
            "object_fit": null,
            "object_position": null,
            "order": null,
            "overflow": null,
            "overflow_x": null,
            "overflow_y": null,
            "padding": null,
            "right": null,
            "top": null,
            "visibility": null,
            "width": null
          }
        },
        "c6a1ed69ad924054805865691cb3a5ea": {
          "model_module": "@jupyter-widgets/base",
          "model_module_version": "1.2.0",
          "model_name": "LayoutModel",
          "state": {
            "_model_module": "@jupyter-widgets/base",
            "_model_module_version": "1.2.0",
            "_model_name": "LayoutModel",
            "_view_count": null,
            "_view_module": "@jupyter-widgets/base",
            "_view_module_version": "1.2.0",
            "_view_name": "LayoutView",
            "align_content": null,
            "align_items": null,
            "align_self": null,
            "border": null,
            "bottom": null,
            "display": null,
            "flex": null,
            "flex_flow": null,
            "grid_area": null,
            "grid_auto_columns": null,
            "grid_auto_flow": null,
            "grid_auto_rows": null,
            "grid_column": null,
            "grid_gap": null,
            "grid_row": null,
            "grid_template_areas": null,
            "grid_template_columns": null,
            "grid_template_rows": null,
            "height": null,
            "justify_content": null,
            "justify_items": null,
            "left": null,
            "margin": null,
            "max_height": null,
            "max_width": null,
            "min_height": null,
            "min_width": null,
            "object_fit": null,
            "object_position": null,
            "order": null,
            "overflow": null,
            "overflow_x": null,
            "overflow_y": null,
            "padding": null,
            "right": null,
            "top": null,
            "visibility": null,
            "width": null
          }
        },
        "c7da9633189f44e1a74f440191ff511d": {
          "model_module": "@jupyter-widgets/base",
          "model_module_version": "1.2.0",
          "model_name": "LayoutModel",
          "state": {
            "_model_module": "@jupyter-widgets/base",
            "_model_module_version": "1.2.0",
            "_model_name": "LayoutModel",
            "_view_count": null,
            "_view_module": "@jupyter-widgets/base",
            "_view_module_version": "1.2.0",
            "_view_name": "LayoutView",
            "align_content": null,
            "align_items": null,
            "align_self": null,
            "border": null,
            "bottom": null,
            "display": null,
            "flex": null,
            "flex_flow": null,
            "grid_area": null,
            "grid_auto_columns": null,
            "grid_auto_flow": null,
            "grid_auto_rows": null,
            "grid_column": null,
            "grid_gap": null,
            "grid_row": null,
            "grid_template_areas": null,
            "grid_template_columns": null,
            "grid_template_rows": null,
            "height": null,
            "justify_content": null,
            "justify_items": null,
            "left": null,
            "margin": null,
            "max_height": null,
            "max_width": null,
            "min_height": null,
            "min_width": null,
            "object_fit": null,
            "object_position": null,
            "order": null,
            "overflow": null,
            "overflow_x": null,
            "overflow_y": null,
            "padding": null,
            "right": null,
            "top": null,
            "visibility": null,
            "width": null
          }
        },
        "d1a37a3453b04b4a82c38933471954db": {
          "model_module": "@jupyter-widgets/controls",
          "model_module_version": "1.5.0",
          "model_name": "HTMLModel",
          "state": {
            "_dom_classes": [],
            "_model_module": "@jupyter-widgets/controls",
            "_model_module_version": "1.5.0",
            "_model_name": "HTMLModel",
            "_view_count": null,
            "_view_module": "@jupyter-widgets/controls",
            "_view_module_version": "1.5.0",
            "_view_name": "HTMLView",
            "description": "",
            "description_tooltip": null,
            "layout": "IPY_MODEL_64da336c9ddd43d981cb403031f0467b",
            "placeholder": "​",
            "style": "IPY_MODEL_810926b9c9f642639ca6ac21d2d279cc",
            "value": " 967/967 [00:00&lt;00:00, 36.3kB/s]"
          }
        },
        "d95d5e5af11f476993094c7d83dfb70d": {
          "model_module": "@jupyter-widgets/base",
          "model_module_version": "1.2.0",
          "model_name": "LayoutModel",
          "state": {
            "_model_module": "@jupyter-widgets/base",
            "_model_module_version": "1.2.0",
            "_model_name": "LayoutModel",
            "_view_count": null,
            "_view_module": "@jupyter-widgets/base",
            "_view_module_version": "1.2.0",
            "_view_name": "LayoutView",
            "align_content": null,
            "align_items": null,
            "align_self": null,
            "border": null,
            "bottom": null,
            "display": null,
            "flex": null,
            "flex_flow": null,
            "grid_area": null,
            "grid_auto_columns": null,
            "grid_auto_flow": null,
            "grid_auto_rows": null,
            "grid_column": null,
            "grid_gap": null,
            "grid_row": null,
            "grid_template_areas": null,
            "grid_template_columns": null,
            "grid_template_rows": null,
            "height": null,
            "justify_content": null,
            "justify_items": null,
            "left": null,
            "margin": null,
            "max_height": null,
            "max_width": null,
            "min_height": null,
            "min_width": null,
            "object_fit": null,
            "object_position": null,
            "order": null,
            "overflow": null,
            "overflow_x": null,
            "overflow_y": null,
            "padding": null,
            "right": null,
            "top": null,
            "visibility": null,
            "width": null
          }
        },
        "da565ad9b7014c30951c11f2709ec0c4": {
          "model_module": "@jupyter-widgets/controls",
          "model_module_version": "1.5.0",
          "model_name": "HTMLModel",
          "state": {
            "_dom_classes": [],
            "_model_module": "@jupyter-widgets/controls",
            "_model_module_version": "1.5.0",
            "_model_name": "HTMLModel",
            "_view_count": null,
            "_view_module": "@jupyter-widgets/controls",
            "_view_module_version": "1.5.0",
            "_view_name": "HTMLView",
            "description": "",
            "description_tooltip": null,
            "layout": "IPY_MODEL_5e3868e581e44b36b43de7ea01aed65f",
            "placeholder": "​",
            "style": "IPY_MODEL_01827fd45c2b4abe893112c77fe87dd7",
            "value": " 7/7 [00:58&lt;00:00,  7.76s/it]"
          }
        },
        "dc935cc810c7499d9d2b25aa04808741": {
          "model_module": "@jupyter-widgets/controls",
          "model_module_version": "1.5.0",
          "model_name": "FloatProgressModel",
          "state": {
            "_dom_classes": [],
            "_model_module": "@jupyter-widgets/controls",
            "_model_module_version": "1.5.0",
            "_model_name": "FloatProgressModel",
            "_view_count": null,
            "_view_module": "@jupyter-widgets/controls",
            "_view_module_version": "1.5.0",
            "_view_name": "ProgressView",
            "bar_style": "success",
            "description": "",
            "description_tooltip": null,
            "layout": "IPY_MODEL_a8b8b0f313df4b72a0b0877e05dcbb80",
            "max": 72,
            "min": 0,
            "orientation": "horizontal",
            "style": "IPY_MODEL_83a71281d77443bf9c56c61ac4d40407",
            "value": 72
          }
        },
        "dda8efdfde72455089bb6e9088764297": {
          "model_module": "@jupyter-widgets/base",
          "model_module_version": "1.2.0",
          "model_name": "LayoutModel",
          "state": {
            "_model_module": "@jupyter-widgets/base",
            "_model_module_version": "1.2.0",
            "_model_name": "LayoutModel",
            "_view_count": null,
            "_view_module": "@jupyter-widgets/base",
            "_view_module_version": "1.2.0",
            "_view_name": "LayoutView",
            "align_content": null,
            "align_items": null,
            "align_self": null,
            "border": null,
            "bottom": null,
            "display": null,
            "flex": null,
            "flex_flow": null,
            "grid_area": null,
            "grid_auto_columns": null,
            "grid_auto_flow": null,
            "grid_auto_rows": null,
            "grid_column": null,
            "grid_gap": null,
            "grid_row": null,
            "grid_template_areas": null,
            "grid_template_columns": null,
            "grid_template_rows": null,
            "height": null,
            "justify_content": null,
            "justify_items": null,
            "left": null,
            "margin": null,
            "max_height": null,
            "max_width": null,
            "min_height": null,
            "min_width": null,
            "object_fit": null,
            "object_position": null,
            "order": null,
            "overflow": null,
            "overflow_x": null,
            "overflow_y": null,
            "padding": null,
            "right": null,
            "top": null,
            "visibility": null,
            "width": null
          }
        },
        "df4ee63bd9e24d8599011fbc2cdb33b3": {
          "model_module": "@jupyter-widgets/base",
          "model_module_version": "1.2.0",
          "model_name": "LayoutModel",
          "state": {
            "_model_module": "@jupyter-widgets/base",
            "_model_module_version": "1.2.0",
            "_model_name": "LayoutModel",
            "_view_count": null,
            "_view_module": "@jupyter-widgets/base",
            "_view_module_version": "1.2.0",
            "_view_name": "LayoutView",
            "align_content": null,
            "align_items": null,
            "align_self": null,
            "border": null,
            "bottom": null,
            "display": null,
            "flex": null,
            "flex_flow": null,
            "grid_area": null,
            "grid_auto_columns": null,
            "grid_auto_flow": null,
            "grid_auto_rows": null,
            "grid_column": null,
            "grid_gap": null,
            "grid_row": null,
            "grid_template_areas": null,
            "grid_template_columns": null,
            "grid_template_rows": null,
            "height": null,
            "justify_content": null,
            "justify_items": null,
            "left": null,
            "margin": null,
            "max_height": null,
            "max_width": null,
            "min_height": null,
            "min_width": null,
            "object_fit": null,
            "object_position": null,
            "order": null,
            "overflow": null,
            "overflow_x": null,
            "overflow_y": null,
            "padding": null,
            "right": null,
            "top": null,
            "visibility": null,
            "width": null
          }
        },
        "e33ac69c91e64a5f87fb9e2ab0c93747": {
          "model_module": "@jupyter-widgets/base",
          "model_module_version": "1.2.0",
          "model_name": "LayoutModel",
          "state": {
            "_model_module": "@jupyter-widgets/base",
            "_model_module_version": "1.2.0",
            "_model_name": "LayoutModel",
            "_view_count": null,
            "_view_module": "@jupyter-widgets/base",
            "_view_module_version": "1.2.0",
            "_view_name": "LayoutView",
            "align_content": null,
            "align_items": null,
            "align_self": null,
            "border": null,
            "bottom": null,
            "display": null,
            "flex": null,
            "flex_flow": null,
            "grid_area": null,
            "grid_auto_columns": null,
            "grid_auto_flow": null,
            "grid_auto_rows": null,
            "grid_column": null,
            "grid_gap": null,
            "grid_row": null,
            "grid_template_areas": null,
            "grid_template_columns": null,
            "grid_template_rows": null,
            "height": null,
            "justify_content": null,
            "justify_items": null,
            "left": null,
            "margin": null,
            "max_height": null,
            "max_width": null,
            "min_height": null,
            "min_width": null,
            "object_fit": null,
            "object_position": null,
            "order": null,
            "overflow": null,
            "overflow_x": null,
            "overflow_y": null,
            "padding": null,
            "right": null,
            "top": null,
            "visibility": null,
            "width": null
          }
        },
        "e54f68307c55424599fb5f2c95495d65": {
          "model_module": "@jupyter-widgets/base",
          "model_module_version": "1.2.0",
          "model_name": "LayoutModel",
          "state": {
            "_model_module": "@jupyter-widgets/base",
            "_model_module_version": "1.2.0",
            "_model_name": "LayoutModel",
            "_view_count": null,
            "_view_module": "@jupyter-widgets/base",
            "_view_module_version": "1.2.0",
            "_view_name": "LayoutView",
            "align_content": null,
            "align_items": null,
            "align_self": null,
            "border": null,
            "bottom": null,
            "display": null,
            "flex": null,
            "flex_flow": null,
            "grid_area": null,
            "grid_auto_columns": null,
            "grid_auto_flow": null,
            "grid_auto_rows": null,
            "grid_column": null,
            "grid_gap": null,
            "grid_row": null,
            "grid_template_areas": null,
            "grid_template_columns": null,
            "grid_template_rows": null,
            "height": null,
            "justify_content": null,
            "justify_items": null,
            "left": null,
            "margin": null,
            "max_height": null,
            "max_width": null,
            "min_height": null,
            "min_width": null,
            "object_fit": null,
            "object_position": null,
            "order": null,
            "overflow": null,
            "overflow_x": null,
            "overflow_y": null,
            "padding": null,
            "right": null,
            "top": null,
            "visibility": null,
            "width": null
          }
        },
        "e94d50a46d5142d4af53ecf5da3770fc": {
          "model_module": "@jupyter-widgets/controls",
          "model_module_version": "1.5.0",
          "model_name": "HTMLModel",
          "state": {
            "_dom_classes": [],
            "_model_module": "@jupyter-widgets/controls",
            "_model_module_version": "1.5.0",
            "_model_name": "HTMLModel",
            "_view_count": null,
            "_view_module": "@jupyter-widgets/controls",
            "_view_module_version": "1.5.0",
            "_view_name": "HTMLView",
            "description": "",
            "description_tooltip": null,
            "layout": "IPY_MODEL_bc8ba30790fb45c189429c67cb714975",
            "placeholder": "​",
            "style": "IPY_MODEL_f70298c3b51e4fc69098a096b90d25e9",
            "value": " 1.80M/1.80M [00:00&lt;00:00, 11.6MB/s]"
          }
        },
        "ea60006b7b864033a6d48ba7a52dbc32": {
          "model_module": "@jupyter-widgets/controls",
          "model_module_version": "1.5.0",
          "model_name": "HTMLModel",
          "state": {
            "_dom_classes": [],
            "_model_module": "@jupyter-widgets/controls",
            "_model_module_version": "1.5.0",
            "_model_name": "HTMLModel",
            "_view_count": null,
            "_view_module": "@jupyter-widgets/controls",
            "_view_module_version": "1.5.0",
            "_view_name": "HTMLView",
            "description": "",
            "description_tooltip": null,
            "layout": "IPY_MODEL_974dcfc4b3034bfe81a5e298e72acda8",
            "placeholder": "​",
            "style": "IPY_MODEL_a14a0362a0e346a5849a18d174c2e234",
            "value": " 493k/493k [00:00&lt;00:00, 3.96MB/s]"
          }
        },
        "ea8c4d4f43a340e894c0a7d22c6b2cc3": {
          "model_module": "@jupyter-widgets/controls",
          "model_module_version": "1.5.0",
          "model_name": "HBoxModel",
          "state": {
            "_dom_classes": [],
            "_model_module": "@jupyter-widgets/controls",
            "_model_module_version": "1.5.0",
            "_model_name": "HBoxModel",
            "_view_count": null,
            "_view_module": "@jupyter-widgets/controls",
            "_view_module_version": "1.5.0",
            "_view_name": "HBoxView",
            "box_style": "",
            "children": [
              "IPY_MODEL_36d657f4202c4a98afdb959529252cd1",
              "IPY_MODEL_9bf022d7091e4e3392c910e5c3f640f9",
              "IPY_MODEL_ea60006b7b864033a6d48ba7a52dbc32"
            ],
            "layout": "IPY_MODEL_47a4a297f7f54786b4583d624f05bea0"
          }
        },
        "eed31c56e7d9461e9551de1f7df953b0": {
          "model_module": "@jupyter-widgets/controls",
          "model_module_version": "1.5.0",
          "model_name": "HTMLModel",
          "state": {
            "_dom_classes": [],
            "_model_module": "@jupyter-widgets/controls",
            "_model_module_version": "1.5.0",
            "_model_name": "HTMLModel",
            "_view_count": null,
            "_view_module": "@jupyter-widgets/controls",
            "_view_module_version": "1.5.0",
            "_view_name": "HTMLView",
            "description": "",
            "description_tooltip": null,
            "layout": "IPY_MODEL_c6a1ed69ad924054805865691cb3a5ea",
            "placeholder": "​",
            "style": "IPY_MODEL_f36b26f346554a08b14dea8ea74c7917",
            "value": "Batches: 100%"
          }
        },
        "efd536cd36624457b4ff7816b4622229": {
          "model_module": "@jupyter-widgets/controls",
          "model_module_version": "1.5.0",
          "model_name": "ProgressStyleModel",
          "state": {
            "_model_module": "@jupyter-widgets/controls",
            "_model_module_version": "1.5.0",
            "_model_name": "ProgressStyleModel",
            "_view_count": null,
            "_view_module": "@jupyter-widgets/base",
            "_view_module_version": "1.2.0",
            "_view_name": "StyleView",
            "bar_color": null,
            "description_width": ""
          }
        },
        "f199c2c304e0411ab3951a458a207c52": {
          "model_module": "@jupyter-widgets/controls",
          "model_module_version": "1.5.0",
          "model_name": "HBoxModel",
          "state": {
            "_dom_classes": [],
            "_model_module": "@jupyter-widgets/controls",
            "_model_module_version": "1.5.0",
            "_model_name": "HBoxModel",
            "_view_count": null,
            "_view_module": "@jupyter-widgets/controls",
            "_view_module_version": "1.5.0",
            "_view_name": "HBoxView",
            "box_style": "",
            "children": [
              "IPY_MODEL_0a2db2efdb4943f082a4156fe61cef4b",
              "IPY_MODEL_8b38a7332a1a4d40893d3bdc6aa65871",
              "IPY_MODEL_0b146217e316481e8fcba9c3c5801dac"
            ],
            "layout": "IPY_MODEL_851540846d984a3e8b48dbc9c0443cef"
          }
        },
        "f36b26f346554a08b14dea8ea74c7917": {
          "model_module": "@jupyter-widgets/controls",
          "model_module_version": "1.5.0",
          "model_name": "DescriptionStyleModel",
          "state": {
            "_model_module": "@jupyter-widgets/controls",
            "_model_module_version": "1.5.0",
            "_model_name": "DescriptionStyleModel",
            "_view_count": null,
            "_view_module": "@jupyter-widgets/base",
            "_view_module_version": "1.2.0",
            "_view_name": "StyleView",
            "description_width": ""
          }
        },
        "f70298c3b51e4fc69098a096b90d25e9": {
          "model_module": "@jupyter-widgets/controls",
          "model_module_version": "1.5.0",
          "model_name": "DescriptionStyleModel",
          "state": {
            "_model_module": "@jupyter-widgets/controls",
            "_model_module_version": "1.5.0",
            "_model_name": "DescriptionStyleModel",
            "_view_count": null,
            "_view_module": "@jupyter-widgets/base",
            "_view_module_version": "1.2.0",
            "_view_name": "StyleView",
            "description_width": ""
          }
        },
        "fcb4e8b57bc641a198f23b156b577899": {
          "model_module": "@jupyter-widgets/controls",
          "model_module_version": "1.5.0",
          "model_name": "ProgressStyleModel",
          "state": {
            "_model_module": "@jupyter-widgets/controls",
            "_model_module_version": "1.5.0",
            "_model_name": "ProgressStyleModel",
            "_view_count": null,
            "_view_module": "@jupyter-widgets/base",
            "_view_module_version": "1.2.0",
            "_view_name": "StyleView",
            "bar_color": null,
            "description_width": ""
          }
        }
      }
    }
  },
  "nbformat": 4,
  "nbformat_minor": 0
}
